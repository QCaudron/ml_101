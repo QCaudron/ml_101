{
 "cells": [
  {
   "cell_type": "markdown",
   "metadata": {},
   "source": [
    "### Data import, cleaning, visualization\n",
    "#### Intro to ML workshop: 2018-08-18"
   ]
  },
  {
   "cell_type": "code",
   "execution_count": 1,
   "metadata": {
    "collapsed": true
   },
   "outputs": [],
   "source": [
    "# Import libraries\n",
    "\n",
    "# Data exploration\n",
    "import pandas as pd\n",
    "import numpy as np\n",
    "\n",
    "# Data visualization\n",
    "import matplotlib.pyplot as plt\n",
    "\n",
    "# The % signifies a ipynb \"magic function\". This line allows the figure to be rendered in the notebook next to the\n",
    "# code. \n",
    "%matplotlib inline"
   ]
  },
  {
   "cell_type": "code",
   "execution_count": 2,
   "metadata": {
    "collapsed": false
   },
   "outputs": [],
   "source": [
    "# Read in the data. Remember to pass in the full file path!\n",
    "data_df = pd.read_csv('../data/commute-times-train.csv')"
   ]
  },
  {
   "cell_type": "code",
   "execution_count": 3,
   "metadata": {
    "collapsed": false
   },
   "outputs": [
    {
     "data": {
      "text/html": [
       "<div>\n",
       "<table border=\"1\" class=\"dataframe\">\n",
       "  <thead>\n",
       "    <tr style=\"text-align: right;\">\n",
       "      <th></th>\n",
       "      <th>Unnamed: 0</th>\n",
       "      <th>source_latitude</th>\n",
       "      <th>source_longitude</th>\n",
       "      <th>destination_latitude</th>\n",
       "      <th>destination_longitude</th>\n",
       "      <th>time_of_day_ts</th>\n",
       "      <th>commute_type</th>\n",
       "      <th>commute_time</th>\n",
       "    </tr>\n",
       "  </thead>\n",
       "  <tbody>\n",
       "    <tr>\n",
       "      <th>0</th>\n",
       "      <td>0</td>\n",
       "      <td>-0.182809</td>\n",
       "      <td>0.361579</td>\n",
       "      <td>0.485623</td>\n",
       "      <td>0.300347</td>\n",
       "      <td>2018-08-13 16:56:00</td>\n",
       "      <td>BUS</td>\n",
       "      <td>25.156297</td>\n",
       "    </tr>\n",
       "    <tr>\n",
       "      <th>1</th>\n",
       "      <td>1</td>\n",
       "      <td>0.160297</td>\n",
       "      <td>0.064330</td>\n",
       "      <td>0.702545</td>\n",
       "      <td>-0.116307</td>\n",
       "      <td>2018-08-13 18:19:00</td>\n",
       "      <td>CAR</td>\n",
       "      <td>12.937429</td>\n",
       "    </tr>\n",
       "    <tr>\n",
       "      <th>2</th>\n",
       "      <td>2</td>\n",
       "      <td>0.762229</td>\n",
       "      <td>0.486693</td>\n",
       "      <td>0.197252</td>\n",
       "      <td>0.790051</td>\n",
       "      <td>2018-08-13 17:36:00</td>\n",
       "      <td>BIKE</td>\n",
       "      <td>29.013729</td>\n",
       "    </tr>\n",
       "    <tr>\n",
       "      <th>3</th>\n",
       "      <td>3</td>\n",
       "      <td>0.187947</td>\n",
       "      <td>0.508487</td>\n",
       "      <td>-0.372924</td>\n",
       "      <td>-0.914006</td>\n",
       "      <td>2018-08-13 07:41:00</td>\n",
       "      <td>CAR</td>\n",
       "      <td>18.215423</td>\n",
       "    </tr>\n",
       "    <tr>\n",
       "      <th>4</th>\n",
       "      <td>4</td>\n",
       "      <td>-0.431013</td>\n",
       "      <td>-0.600620</td>\n",
       "      <td>0.729273</td>\n",
       "      <td>0.215633</td>\n",
       "      <td>2018-08-13 15:56:00</td>\n",
       "      <td>TRAIN</td>\n",
       "      <td>11.196802</td>\n",
       "    </tr>\n",
       "  </tbody>\n",
       "</table>\n",
       "</div>"
      ],
      "text/plain": [
       "   Unnamed: 0  source_latitude  source_longitude  destination_latitude  \\\n",
       "0           0        -0.182809          0.361579              0.485623   \n",
       "1           1         0.160297          0.064330              0.702545   \n",
       "2           2         0.762229          0.486693              0.197252   \n",
       "3           3         0.187947          0.508487             -0.372924   \n",
       "4           4        -0.431013         -0.600620              0.729273   \n",
       "\n",
       "   destination_longitude       time_of_day_ts commute_type  commute_time  \n",
       "0               0.300347  2018-08-13 16:56:00          BUS     25.156297  \n",
       "1              -0.116307  2018-08-13 18:19:00          CAR     12.937429  \n",
       "2               0.790051  2018-08-13 17:36:00         BIKE     29.013729  \n",
       "3              -0.914006  2018-08-13 07:41:00          CAR     18.215423  \n",
       "4               0.215633  2018-08-13 15:56:00        TRAIN     11.196802  "
      ]
     },
     "execution_count": 3,
     "metadata": {},
     "output_type": "execute_result"
    }
   ],
   "source": [
    "# Read in the first five rows of data.\n",
    "data_df.head()"
   ]
  },
  {
   "cell_type": "code",
   "execution_count": 4,
   "metadata": {
    "collapsed": false
   },
   "outputs": [
    {
     "data": {
      "text/html": [
       "<div>\n",
       "<table border=\"1\" class=\"dataframe\">\n",
       "  <thead>\n",
       "    <tr style=\"text-align: right;\">\n",
       "      <th></th>\n",
       "      <th>Unnamed: 0</th>\n",
       "      <th>source_latitude</th>\n",
       "      <th>source_longitude</th>\n",
       "      <th>destination_latitude</th>\n",
       "      <th>destination_longitude</th>\n",
       "      <th>time_of_day_ts</th>\n",
       "      <th>commute_type</th>\n",
       "      <th>commute_time</th>\n",
       "    </tr>\n",
       "  </thead>\n",
       "  <tbody>\n",
       "    <tr>\n",
       "      <th>12215</th>\n",
       "      <td>12215</td>\n",
       "      <td>0.292541</td>\n",
       "      <td>-0.360072</td>\n",
       "      <td>0.390541</td>\n",
       "      <td>0.730669</td>\n",
       "      <td>2018-08-13 15:33:00</td>\n",
       "      <td>TRAIN</td>\n",
       "      <td>8.352968</td>\n",
       "    </tr>\n",
       "    <tr>\n",
       "      <th>18870</th>\n",
       "      <td>18870</td>\n",
       "      <td>-0.076991</td>\n",
       "      <td>0.261773</td>\n",
       "      <td>0.416794</td>\n",
       "      <td>-0.206213</td>\n",
       "      <td>2018-08-13 08:49:00</td>\n",
       "      <td>BUS</td>\n",
       "      <td>24.717752</td>\n",
       "    </tr>\n",
       "    <tr>\n",
       "      <th>16008</th>\n",
       "      <td>16008</td>\n",
       "      <td>-0.012110</td>\n",
       "      <td>0.684097</td>\n",
       "      <td>-0.517205</td>\n",
       "      <td>-0.074971</td>\n",
       "      <td>2018-08-13 07:43:00</td>\n",
       "      <td>BUS</td>\n",
       "      <td>23.980197</td>\n",
       "    </tr>\n",
       "  </tbody>\n",
       "</table>\n",
       "</div>"
      ],
      "text/plain": [
       "       Unnamed: 0  source_latitude  source_longitude  destination_latitude  \\\n",
       "12215       12215         0.292541         -0.360072              0.390541   \n",
       "18870       18870        -0.076991          0.261773              0.416794   \n",
       "16008       16008        -0.012110          0.684097             -0.517205   \n",
       "\n",
       "       destination_longitude       time_of_day_ts commute_type  commute_time  \n",
       "12215               0.730669  2018-08-13 15:33:00        TRAIN      8.352968  \n",
       "18870              -0.206213  2018-08-13 08:49:00          BUS     24.717752  \n",
       "16008              -0.074971  2018-08-13 07:43:00          BUS     23.980197  "
      ]
     },
     "execution_count": 4,
     "metadata": {},
     "output_type": "execute_result"
    }
   ],
   "source": [
    "# Other options include using .tail() and .sample(). You can specify how many rows of data to see. The default is 5. \n",
    "data_df.sample(3)"
   ]
  },
  {
   "cell_type": "code",
   "execution_count": 5,
   "metadata": {
    "collapsed": false
   },
   "outputs": [
    {
     "data": {
      "text/html": [
       "<div>\n",
       "<table border=\"1\" class=\"dataframe\">\n",
       "  <thead>\n",
       "    <tr style=\"text-align: right;\">\n",
       "      <th></th>\n",
       "      <th>Unnamed: 0</th>\n",
       "      <th>source_latitude</th>\n",
       "      <th>source_longitude</th>\n",
       "      <th>destination_latitude</th>\n",
       "      <th>destination_longitude</th>\n",
       "      <th>commute_time</th>\n",
       "    </tr>\n",
       "  </thead>\n",
       "  <tbody>\n",
       "    <tr>\n",
       "      <th>count</th>\n",
       "      <td>20000.000000</td>\n",
       "      <td>20000.000000</td>\n",
       "      <td>20000.000000</td>\n",
       "      <td>20000.000000</td>\n",
       "      <td>20000.000000</td>\n",
       "      <td>20000.000000</td>\n",
       "    </tr>\n",
       "    <tr>\n",
       "      <th>mean</th>\n",
       "      <td>9999.500000</td>\n",
       "      <td>-0.002115</td>\n",
       "      <td>0.001366</td>\n",
       "      <td>0.004656</td>\n",
       "      <td>-0.002148</td>\n",
       "      <td>19.742193</td>\n",
       "    </tr>\n",
       "    <tr>\n",
       "      <th>std</th>\n",
       "      <td>5773.647028</td>\n",
       "      <td>0.494554</td>\n",
       "      <td>0.501270</td>\n",
       "      <td>0.498530</td>\n",
       "      <td>0.498508</td>\n",
       "      <td>8.234790</td>\n",
       "    </tr>\n",
       "    <tr>\n",
       "      <th>min</th>\n",
       "      <td>0.000000</td>\n",
       "      <td>-0.996771</td>\n",
       "      <td>-0.997894</td>\n",
       "      <td>-0.998336</td>\n",
       "      <td>-0.997937</td>\n",
       "      <td>0.353436</td>\n",
       "    </tr>\n",
       "    <tr>\n",
       "      <th>25%</th>\n",
       "      <td>4999.750000</td>\n",
       "      <td>-0.394784</td>\n",
       "      <td>-0.404452</td>\n",
       "      <td>-0.397990</td>\n",
       "      <td>-0.402976</td>\n",
       "      <td>13.298351</td>\n",
       "    </tr>\n",
       "    <tr>\n",
       "      <th>50%</th>\n",
       "      <td>9999.500000</td>\n",
       "      <td>-0.002029</td>\n",
       "      <td>0.003488</td>\n",
       "      <td>0.007838</td>\n",
       "      <td>-0.001741</td>\n",
       "      <td>18.741689</td>\n",
       "    </tr>\n",
       "    <tr>\n",
       "      <th>75%</th>\n",
       "      <td>14999.250000</td>\n",
       "      <td>0.392261</td>\n",
       "      <td>0.406670</td>\n",
       "      <td>0.405283</td>\n",
       "      <td>0.398388</td>\n",
       "      <td>25.434019</td>\n",
       "    </tr>\n",
       "    <tr>\n",
       "      <th>max</th>\n",
       "      <td>19999.000000</td>\n",
       "      <td>0.999195</td>\n",
       "      <td>0.998077</td>\n",
       "      <td>0.997996</td>\n",
       "      <td>0.997447</td>\n",
       "      <td>49.819117</td>\n",
       "    </tr>\n",
       "  </tbody>\n",
       "</table>\n",
       "</div>"
      ],
      "text/plain": [
       "         Unnamed: 0  source_latitude  source_longitude  destination_latitude  \\\n",
       "count  20000.000000     20000.000000      20000.000000          20000.000000   \n",
       "mean    9999.500000        -0.002115          0.001366              0.004656   \n",
       "std     5773.647028         0.494554          0.501270              0.498530   \n",
       "min        0.000000        -0.996771         -0.997894             -0.998336   \n",
       "25%     4999.750000        -0.394784         -0.404452             -0.397990   \n",
       "50%     9999.500000        -0.002029          0.003488              0.007838   \n",
       "75%    14999.250000         0.392261          0.406670              0.405283   \n",
       "max    19999.000000         0.999195          0.998077              0.997996   \n",
       "\n",
       "       destination_longitude  commute_time  \n",
       "count           20000.000000  20000.000000  \n",
       "mean               -0.002148     19.742193  \n",
       "std                 0.498508      8.234790  \n",
       "min                -0.997937      0.353436  \n",
       "25%                -0.402976     13.298351  \n",
       "50%                -0.001741     18.741689  \n",
       "75%                 0.398388     25.434019  \n",
       "max                 0.997447     49.819117  "
      ]
     },
     "execution_count": 5,
     "metadata": {},
     "output_type": "execute_result"
    }
   ],
   "source": [
    "# Other methods to use to get some information about your dataset. By default, using .describe() provides some summary\n",
    "# statistics of what kind of data?\n",
    "data_df.describe()"
   ]
  },
  {
   "cell_type": "code",
   "execution_count": 19,
   "metadata": {
    "collapsed": false
   },
   "outputs": [
    {
     "data": {
      "text/html": [
       "<div>\n",
       "<table border=\"1\" class=\"dataframe\">\n",
       "  <thead>\n",
       "    <tr style=\"text-align: right;\">\n",
       "      <th></th>\n",
       "      <th>Unnamed: 0</th>\n",
       "      <th>source_latitude</th>\n",
       "      <th>source_longitude</th>\n",
       "      <th>destination_latitude</th>\n",
       "      <th>destination_longitude</th>\n",
       "      <th>time_of_day_ts</th>\n",
       "      <th>commute_type</th>\n",
       "      <th>commute_time</th>\n",
       "    </tr>\n",
       "  </thead>\n",
       "  <tbody>\n",
       "    <tr>\n",
       "      <th>count</th>\n",
       "      <td>20000.000000</td>\n",
       "      <td>20000.000000</td>\n",
       "      <td>20000.000000</td>\n",
       "      <td>20000.000000</td>\n",
       "      <td>20000.000000</td>\n",
       "      <td>20000</td>\n",
       "      <td>20000</td>\n",
       "      <td>20000.000000</td>\n",
       "    </tr>\n",
       "    <tr>\n",
       "      <th>unique</th>\n",
       "      <td>NaN</td>\n",
       "      <td>NaN</td>\n",
       "      <td>NaN</td>\n",
       "      <td>NaN</td>\n",
       "      <td>NaN</td>\n",
       "      <td>1356</td>\n",
       "      <td>5</td>\n",
       "      <td>NaN</td>\n",
       "    </tr>\n",
       "    <tr>\n",
       "      <th>top</th>\n",
       "      <td>NaN</td>\n",
       "      <td>NaN</td>\n",
       "      <td>NaN</td>\n",
       "      <td>NaN</td>\n",
       "      <td>NaN</td>\n",
       "      <td>2018-08-13 08:07:00</td>\n",
       "      <td>CAR</td>\n",
       "      <td>NaN</td>\n",
       "    </tr>\n",
       "    <tr>\n",
       "      <th>freq</th>\n",
       "      <td>NaN</td>\n",
       "      <td>NaN</td>\n",
       "      <td>NaN</td>\n",
       "      <td>NaN</td>\n",
       "      <td>NaN</td>\n",
       "      <td>70</td>\n",
       "      <td>6995</td>\n",
       "      <td>NaN</td>\n",
       "    </tr>\n",
       "    <tr>\n",
       "      <th>mean</th>\n",
       "      <td>9999.500000</td>\n",
       "      <td>-0.002115</td>\n",
       "      <td>0.001366</td>\n",
       "      <td>0.004656</td>\n",
       "      <td>-0.002148</td>\n",
       "      <td>NaN</td>\n",
       "      <td>NaN</td>\n",
       "      <td>19.742193</td>\n",
       "    </tr>\n",
       "    <tr>\n",
       "      <th>std</th>\n",
       "      <td>5773.647028</td>\n",
       "      <td>0.494554</td>\n",
       "      <td>0.501270</td>\n",
       "      <td>0.498530</td>\n",
       "      <td>0.498508</td>\n",
       "      <td>NaN</td>\n",
       "      <td>NaN</td>\n",
       "      <td>8.234790</td>\n",
       "    </tr>\n",
       "    <tr>\n",
       "      <th>min</th>\n",
       "      <td>0.000000</td>\n",
       "      <td>-0.996771</td>\n",
       "      <td>-0.997894</td>\n",
       "      <td>-0.998336</td>\n",
       "      <td>-0.997937</td>\n",
       "      <td>NaN</td>\n",
       "      <td>NaN</td>\n",
       "      <td>0.353436</td>\n",
       "    </tr>\n",
       "    <tr>\n",
       "      <th>25%</th>\n",
       "      <td>4999.750000</td>\n",
       "      <td>-0.394784</td>\n",
       "      <td>-0.404452</td>\n",
       "      <td>-0.397990</td>\n",
       "      <td>-0.402976</td>\n",
       "      <td>NaN</td>\n",
       "      <td>NaN</td>\n",
       "      <td>13.298351</td>\n",
       "    </tr>\n",
       "    <tr>\n",
       "      <th>50%</th>\n",
       "      <td>9999.500000</td>\n",
       "      <td>-0.002029</td>\n",
       "      <td>0.003488</td>\n",
       "      <td>0.007838</td>\n",
       "      <td>-0.001741</td>\n",
       "      <td>NaN</td>\n",
       "      <td>NaN</td>\n",
       "      <td>18.741689</td>\n",
       "    </tr>\n",
       "    <tr>\n",
       "      <th>75%</th>\n",
       "      <td>14999.250000</td>\n",
       "      <td>0.392261</td>\n",
       "      <td>0.406670</td>\n",
       "      <td>0.405283</td>\n",
       "      <td>0.398388</td>\n",
       "      <td>NaN</td>\n",
       "      <td>NaN</td>\n",
       "      <td>25.434019</td>\n",
       "    </tr>\n",
       "    <tr>\n",
       "      <th>max</th>\n",
       "      <td>19999.000000</td>\n",
       "      <td>0.999195</td>\n",
       "      <td>0.998077</td>\n",
       "      <td>0.997996</td>\n",
       "      <td>0.997447</td>\n",
       "      <td>NaN</td>\n",
       "      <td>NaN</td>\n",
       "      <td>49.819117</td>\n",
       "    </tr>\n",
       "  </tbody>\n",
       "</table>\n",
       "</div>"
      ],
      "text/plain": [
       "          Unnamed: 0  source_latitude  source_longitude  destination_latitude  \\\n",
       "count   20000.000000     20000.000000      20000.000000          20000.000000   \n",
       "unique           NaN              NaN               NaN                   NaN   \n",
       "top              NaN              NaN               NaN                   NaN   \n",
       "freq             NaN              NaN               NaN                   NaN   \n",
       "mean     9999.500000        -0.002115          0.001366              0.004656   \n",
       "std      5773.647028         0.494554          0.501270              0.498530   \n",
       "min         0.000000        -0.996771         -0.997894             -0.998336   \n",
       "25%      4999.750000        -0.394784         -0.404452             -0.397990   \n",
       "50%      9999.500000        -0.002029          0.003488              0.007838   \n",
       "75%     14999.250000         0.392261          0.406670              0.405283   \n",
       "max     19999.000000         0.999195          0.998077              0.997996   \n",
       "\n",
       "        destination_longitude       time_of_day_ts commute_type  commute_time  \n",
       "count            20000.000000                20000        20000  20000.000000  \n",
       "unique                    NaN                 1356            5           NaN  \n",
       "top                       NaN  2018-08-13 08:07:00          CAR           NaN  \n",
       "freq                      NaN                   70         6995           NaN  \n",
       "mean                -0.002148                  NaN          NaN     19.742193  \n",
       "std                  0.498508                  NaN          NaN      8.234790  \n",
       "min                 -0.997937                  NaN          NaN      0.353436  \n",
       "25%                 -0.402976                  NaN          NaN     13.298351  \n",
       "50%                 -0.001741                  NaN          NaN     18.741689  \n",
       "75%                  0.398388                  NaN          NaN     25.434019  \n",
       "max                  0.997447                  NaN          NaN     49.819117  "
      ]
     },
     "execution_count": 19,
     "metadata": {},
     "output_type": "execute_result"
    }
   ],
   "source": [
    "# In case it is of interest, there are kwargs that will provide additional information.\n",
    "data_df.describe(include='all')"
   ]
  },
  {
   "cell_type": "code",
   "execution_count": 6,
   "metadata": {
    "collapsed": false
   },
   "outputs": [
    {
     "data": {
      "text/plain": [
       "(20000, 8)"
      ]
     },
     "execution_count": 6,
     "metadata": {},
     "output_type": "execute_result"
    }
   ],
   "source": [
    "# There is a quick way to learn what size dataset you are working with. .shape will return (rows, columns).\n",
    "data_df.shape"
   ]
  },
  {
   "cell_type": "code",
   "execution_count": 7,
   "metadata": {
    "collapsed": false
   },
   "outputs": [
    {
     "name": "stdout",
     "output_type": "stream",
     "text": [
      "Unnamed: 0 - int64\n",
      "source_latitude - float64\n",
      "source_longitude - float64\n",
      "destination_latitude - float64\n",
      "destination_longitude - float64\n",
      "time_of_day_ts - object\n",
      "commute_type - object\n",
      "commute_time - float64\n"
     ]
    }
   ],
   "source": [
    "# It's important to know what data types are in your dataset! Never make assumptions about the data you are working\n",
    "# with.\n",
    "for col in data_df.columns:\n",
    "    print(f'{col} - {data_df[col].dtype}')"
   ]
  },
  {
   "cell_type": "code",
   "execution_count": 8,
   "metadata": {
    "collapsed": false
   },
   "outputs": [
    {
     "data": {
      "text/plain": [
       "Unnamed: 0                 int64\n",
       "source_latitude          float64\n",
       "source_longitude         float64\n",
       "destination_latitude     float64\n",
       "destination_longitude    float64\n",
       "time_of_day_ts            object\n",
       "commute_type              object\n",
       "commute_time             float64\n",
       "dtype: object"
      ]
     },
     "execution_count": 8,
     "metadata": {},
     "output_type": "execute_result"
    }
   ],
   "source": [
    "# .dtypes will give you the same information. Aren't f-strings fun though?\n",
    "data_df.dtypes"
   ]
  },
  {
   "cell_type": "markdown",
   "metadata": {},
   "source": [
    "### np.NaN != [None, 0] \n",
    "### NaN is very useful because you can leverage vectorized operations in numpy. The data type for each of those values (NaN, None, 0) is different. Think about this when you consider how to impute or otherwise handle missing data."
   ]
  },
  {
   "cell_type": "code",
   "execution_count": 9,
   "metadata": {
    "collapsed": false
   },
   "outputs": [
    {
     "data": {
      "text/plain": [
       "False"
      ]
     },
     "execution_count": 9,
     "metadata": {},
     "output_type": "execute_result"
    }
   ],
   "source": [
    "# Is there any missing data in this dataset?\n",
    "data_df.isnull().values.any()"
   ]
  },
  {
   "cell_type": "code",
   "execution_count": 18,
   "metadata": {
    "collapsed": false
   },
   "outputs": [
    {
     "data": {
      "text/plain": [
       "0"
      ]
     },
     "execution_count": 18,
     "metadata": {},
     "output_type": "execute_result"
    }
   ],
   "source": [
    "# If there are NaNs, how many are there? \n",
    "data_df.isnull().sum().sum()"
   ]
  },
  {
   "cell_type": "code",
   "execution_count": 20,
   "metadata": {
    "collapsed": false
   },
   "outputs": [
    {
     "name": "stdout",
     "output_type": "stream",
     "text": [
      "Unnamed: 0 0\n",
      "source_latitude 0\n",
      "source_longitude 0\n",
      "destination_latitude 0\n",
      "destination_longitude 0\n",
      "time_of_day_ts 0\n",
      "commute_type 0\n",
      "commute_time 0\n"
     ]
    }
   ],
   "source": [
    "# It's useful to be able to pinpoint missing data by column.\n",
    "for col in data_df.columns:\n",
    "    print(col, data_df[col].isnull().sum())"
   ]
  },
  {
   "cell_type": "markdown",
   "metadata": {
    "collapsed": true
   },
   "source": [
    "### Let's continue learning about the data through visualizations"
   ]
  },
  {
   "cell_type": "code",
   "execution_count": 22,
   "metadata": {
    "collapsed": false
   },
   "outputs": [
    {
     "data": {
      "image/png": "[encoded data removed]",
      "text/plain": [
       "<matplotlib.figure.Figure at 0x1164cd7b8>"
      ]
     },
     "metadata": {},
     "output_type": "display_data"
    }
   ],
   "source": [
    "# Can we discern any information from lat long?\n",
    "data_df.plot.scatter(x='source_latitude', y='source_longitude', marker='.');"
   ]
  },
  {
   "cell_type": "code",
   "execution_count": 23,
   "metadata": {
    "collapsed": false
   },
   "outputs": [
    {
     "data": {
      "image/png": "[encoded data removed]",
      "text/plain": [
       "<matplotlib.figure.Figure at 0x115f61898>"
      ]
     },
     "metadata": {},
     "output_type": "display_data"
    }
   ],
   "source": [
    "data_df.plot.scatter(x='destination_latitude', y='destination_longitude', marker='.');"
   ]
  },
  {
   "cell_type": "code",
   "execution_count": 27,
   "metadata": {
    "collapsed": false
   },
   "outputs": [
    {
     "data": {
      "image/png": "[encoded data removed]",
      "text/plain": [
       "<matplotlib.figure.Figure at 0x11641e978>"
      ]
     },
     "metadata": {},
     "output_type": "display_data"
    }
   ],
   "source": [
    "# This will tell you the frequency of commute times.\n",
    "data_df['commute_time'].hist(bins=50);\n",
    "# data_df.hist(column='time_of_day_ts'); Why isn't this version working right now?"
   ]
  },
  {
   "cell_type": "code",
   "execution_count": null,
   "metadata": {
    "collapsed": true
   },
   "outputs": [],
   "source": [
    "# TO DO: run this cell BEFORE converting column type to run into error. Look into dtype!\n",
    "data_df.hist(column='time_of_day_ts', by='commute_type');"
   ]
  },
  {
   "cell_type": "code",
   "execution_count": 31,
   "metadata": {
    "collapsed": false
   },
   "outputs": [],
   "source": [
    "# How the column time_of_day_ts is structured makes it difficult to use for graphing. A relevant data type that plays\n",
    "# nicely with graphing methods?\n",
    "data_df['time_of_day_ts'] = pd.to_datetime(data_df['time_of_day_ts'])"
   ]
  },
  {
   "cell_type": "code",
   "execution_count": 34,
   "metadata": {
    "collapsed": false
   },
   "outputs": [
    {
     "data": {
      "text/plain": [
       "commute_type\n",
       "BIKE     3008\n",
       "BUS      6453\n",
       "CAR      6995\n",
       "TRAIN    2498\n",
       "WALK     1046\n",
       "dtype: int64"
      ]
     },
     "execution_count": 34,
     "metadata": {},
     "output_type": "execute_result"
    }
   ],
   "source": [
    "# This is a nice summary table, but let's graph this out somehow.\n",
    "data_df.groupby('commute_type').size()"
   ]
  },
  {
   "cell_type": "code",
   "execution_count": 32,
   "metadata": {
    "collapsed": false
   },
   "outputs": [
    {
     "data": {
      "image/png": "[encoded data removed]",
      "text/plain": [
       "<matplotlib.figure.Figure at 0x115d9d2e8>"
      ]
     },
     "metadata": {},
     "output_type": "display_data"
    }
   ],
   "source": [
    "data_df.hist(column='time_of_day_ts', by='commute_type');"
   ]
  },
  {
   "cell_type": "code",
   "execution_count": null,
   "metadata": {
    "collapsed": true
   },
   "outputs": [],
   "source": [
    "# Need to fix x axis of graphs below"
   ]
  },
  {
   "cell_type": "code",
   "execution_count": 35,
   "metadata": {
    "collapsed": false
   },
   "outputs": [
    {
     "data": {
      "image/png": "[encoded data removed]",
      "text/plain": [
       "<matplotlib.figure.Figure at 0x115dcf160>"
      ]
     },
     "metadata": {},
     "output_type": "display_data"
    }
   ],
   "source": [
    "# Simplify for following\n",
    "commute_type = data_df['commute_type']\n",
    "commute_time = data_df['commute_time']\n",
    "\n",
    "# Examine the distribution of commute times by commute types.\n",
    "fig, axs = plt.subplots(5, 1, figsize=(12, 10), sharex=True)\n",
    "colors = ['blue', 'red', 'green', 'orange', 'grey']\n",
    "\n",
    "for ax, ctype, color in zip(axs, np.unique(commute_type), colors):\n",
    "    ctime = commute_time[commute_type == ctype]\n",
    "    ax.hist(ctime, bins=50, color=color)\n",
    "    ax.set_title(f'Commute Times for {ctype}')\n",
    "fig.tight_layout()"
   ]
  },
  {
   "cell_type": "markdown",
   "metadata": {},
   "source": [
    "![dist_image](https://slideplayer.com/slide/4829376/15/images/8/Some+Euclidean+Distances.jpg \"Euclidean\")"
   ]
  },
  {
   "cell_type": "code",
   "execution_count": 37,
   "metadata": {
    "collapsed": true
   },
   "outputs": [],
   "source": [
    "# Create new columns for distance using source and destination location information. Feature engineering?!\n",
    "# How else could you measure distance?\n",
    "data_df['distance_l2'] = np.sqrt((data_df['source_latitude'] - data_df['destination_latitude'])**2 + \\\n",
    "(data_df['source_longitude'] - data_df['destination_longitude'])**2)\n",
    "\n",
    "data_df['distance_l1'] = np.abs(data_df['source_latitude'] - data_df['destination_latitude']) + \\\n",
    "np.abs(data_df['source_longitude'] - data_df['destination_longitude'])"
   ]
  },
  {
   "cell_type": "code",
   "execution_count": null,
   "metadata": {
    "collapsed": true
   },
   "outputs": [],
   "source": [
    "# Correlation plot?\n",
    "# plt.xcorr()"
   ]
  },
  {
   "cell_type": "code",
   "execution_count": null,
   "metadata": {
    "collapsed": true
   },
   "outputs": [],
   "source": [
    "# How to add to current data frame in the correct orientation? Know your axes.\n",
    "data_df = pd.concat([data_df, pd.get_dummies(data_df['commute_type'])], axis=1)"
   ]
  },
  {
   "cell_type": "code",
   "execution_count": 36,
   "metadata": {
    "collapsed": true
   },
   "outputs": [],
   "source": [
    "# 8/14/18\n",
    "# For feature engineering, get_dummies was introduced above. What about log transforming commute time? See Hanna's nb"
   ]
  },
  {
   "cell_type": "code",
   "execution_count": null,
   "metadata": {
    "collapsed": true
   },
   "outputs": [],
   "source": [
    "# This might be a bonus feature: distance (diff of time of day, timedelta?) of point to peak \n",
    "# Find the first peak\n",
    "# For each point, determine which peak is closest to that point.\n",
    "# Calculate the distance\n",
    "first_peak = data_df['time_of_day']==\n",
    "\n",
    "# How to do this?\n",
    "# 1. Smooth the data and find deriv (pro: Have to deal with one peak, not 2!)\n",
    "# 2. tmp dfs to split into 2 and find distance (what kind of distance?) to peak?\n",
    "# "
   ]
  },
  {
   "cell_type": "code",
   "execution_count": null,
   "metadata": {
    "collapsed": true
   },
   "outputs": [],
   "source": [
    "# To add\n",
    "# EDA steps (shape, describe, dtypes, head/tail/sample)\n",
    "# Worthwhile concepts to introduce? colinearity and correlation plot? maybe too much in the weeds (bonus concept)\n",
    "# Vizualizations: pandas vs introducing matplotlib & seaborn\n",
    "# new features (L1, L2 distance; get dummies (this will also introduce concept of adding to df))\n",
    "# What about transforming any of the current variables? eg log transform of commute time\n",
    "# plotting (bar plot commute type, scatter/histo time of day -> facet = commute type)\n",
    "# Bonus or plant seed for further exploration during hack time: map start and destination locations (choropleth?)?"
   ]
  },
  {
   "cell_type": "code",
   "execution_count": null,
   "metadata": {
    "collapsed": true
   },
   "outputs": [],
   "source": []
  }
 ],
 "metadata": {
  "kernelspec": {
   "display_name": "Python 3",
   "language": "python",
   "name": "python3"
  },
  "language_info": {
   "codemirror_mode": {
    "name": "ipython",
    "version": 3
   },
   "file_extension": ".py",
   "mimetype": "text/x-python",
   "name": "python",
   "nbconvert_exporter": "python",
   "pygments_lexer": "ipython3",
   "version": "3.6.0"
  }
 },
 "nbformat": 4,
 "nbformat_minor": 2
}
