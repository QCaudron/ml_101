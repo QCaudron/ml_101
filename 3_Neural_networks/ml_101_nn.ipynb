{
 "cells": [
  {
   "cell_type": "markdown",
   "metadata": {},
   "source": [
    "# Predicting commute times"
   ]
  },
  {
   "cell_type": "code",
   "execution_count": 1,
   "metadata": {},
   "outputs": [
    {
     "name": "stderr",
     "output_type": "stream",
     "text": [
      "Using TensorFlow backend.\n"
     ]
    }
   ],
   "source": [
    "import numpy as np\n",
    "import pandas as pd \n",
    "import matplotlib.pyplot as plt\n",
    "\n",
    "from sklearn.linear_model import LinearRegression\n",
    "from sklearn.preprocessing import StandardScaler\n",
    "\n",
    "from sklearn.model_selection import train_test_split\n",
    "from keras.models import Sequential\n",
    "from keras.layers import Dense, Dropout, BatchNormalization\n",
    "\n",
    "%matplotlib inline"
   ]
  },
  {
   "cell_type": "markdown",
   "metadata": {},
   "source": [
    "### Raw data"
   ]
  },
  {
   "cell_type": "code",
   "execution_count": 37,
   "metadata": {
    "scrolled": true
   },
   "outputs": [
    {
     "data": {
      "text/html": [
       "<div>\n",
       "<style scoped>\n",
       "    .dataframe tbody tr th:only-of-type {\n",
       "        vertical-align: middle;\n",
       "    }\n",
       "\n",
       "    .dataframe tbody tr th {\n",
       "        vertical-align: top;\n",
       "    }\n",
       "\n",
       "    .dataframe thead th {\n",
       "        text-align: right;\n",
       "    }\n",
       "</style>\n",
       "<table border=\"1\" class=\"dataframe\">\n",
       "  <thead>\n",
       "    <tr style=\"text-align: right;\">\n",
       "      <th></th>\n",
       "      <th>source_latitude</th>\n",
       "      <th>source_longitude</th>\n",
       "      <th>destination_latitude</th>\n",
       "      <th>destination_longitude</th>\n",
       "      <th>time_of_day</th>\n",
       "      <th>commute_type</th>\n",
       "      <th>commute_time</th>\n",
       "    </tr>\n",
       "  </thead>\n",
       "  <tbody>\n",
       "    <tr>\n",
       "      <th>0</th>\n",
       "      <td>0.824392</td>\n",
       "      <td>0.475742</td>\n",
       "      <td>0.933873</td>\n",
       "      <td>-0.292262</td>\n",
       "      <td>8.856115</td>\n",
       "      <td>TRAIN</td>\n",
       "      <td>1.028704</td>\n",
       "    </tr>\n",
       "    <tr>\n",
       "      <th>1</th>\n",
       "      <td>0.795889</td>\n",
       "      <td>0.075121</td>\n",
       "      <td>0.240722</td>\n",
       "      <td>0.465027</td>\n",
       "      <td>9.058129</td>\n",
       "      <td>BIKE</td>\n",
       "      <td>4.634294</td>\n",
       "    </tr>\n",
       "    <tr>\n",
       "      <th>2</th>\n",
       "      <td>-0.902398</td>\n",
       "      <td>0.124019</td>\n",
       "      <td>0.666059</td>\n",
       "      <td>-0.260070</td>\n",
       "      <td>8.524607</td>\n",
       "      <td>CAR</td>\n",
       "      <td>6.491592</td>\n",
       "    </tr>\n",
       "    <tr>\n",
       "      <th>3</th>\n",
       "      <td>0.496755</td>\n",
       "      <td>-0.747187</td>\n",
       "      <td>0.161702</td>\n",
       "      <td>0.385728</td>\n",
       "      <td>9.676583</td>\n",
       "      <td>BUS</td>\n",
       "      <td>5.415297</td>\n",
       "    </tr>\n",
       "    <tr>\n",
       "      <th>4</th>\n",
       "      <td>-0.085848</td>\n",
       "      <td>-0.914451</td>\n",
       "      <td>-0.058177</td>\n",
       "      <td>0.278478</td>\n",
       "      <td>14.784042</td>\n",
       "      <td>BUS</td>\n",
       "      <td>1.499639</td>\n",
       "    </tr>\n",
       "  </tbody>\n",
       "</table>\n",
       "</div>"
      ],
      "text/plain": [
       "   source_latitude  source_longitude  destination_latitude  \\\n",
       "0         0.824392          0.475742              0.933873   \n",
       "1         0.795889          0.075121              0.240722   \n",
       "2        -0.902398          0.124019              0.666059   \n",
       "3         0.496755         -0.747187              0.161702   \n",
       "4        -0.085848         -0.914451             -0.058177   \n",
       "\n",
       "   destination_longitude  time_of_day commute_type  commute_time  \n",
       "0              -0.292262     8.856115        TRAIN      1.028704  \n",
       "1               0.465027     9.058129         BIKE      4.634294  \n",
       "2              -0.260070     8.524607          CAR      6.491592  \n",
       "3               0.385728     9.676583          BUS      5.415297  \n",
       "4               0.278478    14.784042          BUS      1.499639  "
      ]
     },
     "execution_count": 37,
     "metadata": {},
     "output_type": "execute_result"
    }
   ],
   "source": [
    "# Read in the raw data -- 5000 rows, no parameters changed\n",
    "data = pd.read_csv(\"../data/commute_times.csv\")\n",
    "\n",
    "data.head()"
   ]
  },
  {
   "cell_type": "markdown",
   "metadata": {},
   "source": [
    "### Generate some basic features\n",
    "\n",
    "This is just to mess around with what I expect Susan might create."
   ]
  },
  {
   "cell_type": "code",
   "execution_count": 3,
   "metadata": {},
   "outputs": [
    {
     "data": {
      "text/html": [
       "<div>\n",
       "<style scoped>\n",
       "    .dataframe tbody tr th:only-of-type {\n",
       "        vertical-align: middle;\n",
       "    }\n",
       "\n",
       "    .dataframe tbody tr th {\n",
       "        vertical-align: top;\n",
       "    }\n",
       "\n",
       "    .dataframe thead th {\n",
       "        text-align: right;\n",
       "    }\n",
       "</style>\n",
       "<table border=\"1\" class=\"dataframe\">\n",
       "  <thead>\n",
       "    <tr style=\"text-align: right;\">\n",
       "      <th></th>\n",
       "      <th>source_latitude</th>\n",
       "      <th>source_longitude</th>\n",
       "      <th>destination_latitude</th>\n",
       "      <th>destination_longitude</th>\n",
       "      <th>time_of_day</th>\n",
       "      <th>commute_time</th>\n",
       "      <th>BIKE</th>\n",
       "      <th>BUS</th>\n",
       "      <th>CAR</th>\n",
       "      <th>TRAIN</th>\n",
       "      <th>WALK</th>\n",
       "      <th>distance</th>\n",
       "    </tr>\n",
       "  </thead>\n",
       "  <tbody>\n",
       "    <tr>\n",
       "      <th>0</th>\n",
       "      <td>0.824392</td>\n",
       "      <td>0.475742</td>\n",
       "      <td>0.933873</td>\n",
       "      <td>-0.292262</td>\n",
       "      <td>8.856115</td>\n",
       "      <td>1.028704</td>\n",
       "      <td>0</td>\n",
       "      <td>0</td>\n",
       "      <td>0</td>\n",
       "      <td>1</td>\n",
       "      <td>0</td>\n",
       "      <td>0.775768</td>\n",
       "    </tr>\n",
       "    <tr>\n",
       "      <th>1</th>\n",
       "      <td>0.795889</td>\n",
       "      <td>0.075121</td>\n",
       "      <td>0.240722</td>\n",
       "      <td>0.465027</td>\n",
       "      <td>9.058129</td>\n",
       "      <td>4.634294</td>\n",
       "      <td>1</td>\n",
       "      <td>0</td>\n",
       "      <td>0</td>\n",
       "      <td>0</td>\n",
       "      <td>0</td>\n",
       "      <td>0.678408</td>\n",
       "    </tr>\n",
       "    <tr>\n",
       "      <th>2</th>\n",
       "      <td>-0.902398</td>\n",
       "      <td>0.124019</td>\n",
       "      <td>0.666059</td>\n",
       "      <td>-0.260070</td>\n",
       "      <td>8.524607</td>\n",
       "      <td>6.491592</td>\n",
       "      <td>0</td>\n",
       "      <td>0</td>\n",
       "      <td>1</td>\n",
       "      <td>0</td>\n",
       "      <td>0</td>\n",
       "      <td>1.614800</td>\n",
       "    </tr>\n",
       "    <tr>\n",
       "      <th>3</th>\n",
       "      <td>0.496755</td>\n",
       "      <td>-0.747187</td>\n",
       "      <td>0.161702</td>\n",
       "      <td>0.385728</td>\n",
       "      <td>9.676583</td>\n",
       "      <td>5.415297</td>\n",
       "      <td>0</td>\n",
       "      <td>1</td>\n",
       "      <td>0</td>\n",
       "      <td>0</td>\n",
       "      <td>0</td>\n",
       "      <td>1.181421</td>\n",
       "    </tr>\n",
       "    <tr>\n",
       "      <th>4</th>\n",
       "      <td>-0.085848</td>\n",
       "      <td>-0.914451</td>\n",
       "      <td>-0.058177</td>\n",
       "      <td>0.278478</td>\n",
       "      <td>14.784042</td>\n",
       "      <td>1.499639</td>\n",
       "      <td>0</td>\n",
       "      <td>1</td>\n",
       "      <td>0</td>\n",
       "      <td>0</td>\n",
       "      <td>0</td>\n",
       "      <td>1.193250</td>\n",
       "    </tr>\n",
       "  </tbody>\n",
       "</table>\n",
       "</div>"
      ],
      "text/plain": [
       "   source_latitude  source_longitude  destination_latitude  \\\n",
       "0         0.824392          0.475742              0.933873   \n",
       "1         0.795889          0.075121              0.240722   \n",
       "2        -0.902398          0.124019              0.666059   \n",
       "3         0.496755         -0.747187              0.161702   \n",
       "4        -0.085848         -0.914451             -0.058177   \n",
       "\n",
       "   destination_longitude  time_of_day  commute_time  BIKE  BUS  CAR  TRAIN  \\\n",
       "0              -0.292262     8.856115      1.028704     0    0    0      1   \n",
       "1               0.465027     9.058129      4.634294     1    0    0      0   \n",
       "2              -0.260070     8.524607      6.491592     0    0    1      0   \n",
       "3               0.385728     9.676583      5.415297     0    1    0      0   \n",
       "4               0.278478    14.784042      1.499639     0    1    0      0   \n",
       "\n",
       "   WALK  distance  \n",
       "0     0  0.775768  \n",
       "1     0  0.678408  \n",
       "2     0  1.614800  \n",
       "3     0  1.181421  \n",
       "4     0  1.193250  "
      ]
     },
     "execution_count": 3,
     "metadata": {},
     "output_type": "execute_result"
    }
   ],
   "source": [
    "# Create some categorical variables from commute_type\n",
    "data = pd.concat([data, pd.get_dummies(data[\"commute_type\"])], axis=1).drop([\"commute_type\"], axis=1)\n",
    "\n",
    "# Add L2 norm -- it \"makes sense\" and you might well create this if you \n",
    "# didn't know how the data was generated;\n",
    "# the L1 norm would just be a collinearity mess\n",
    "data.loc[:, \"distance\"] = np.sqrt(\n",
    "    (data[\"destination_latitude\"] - data[\"source_latitude\"])**2 +\n",
    "    (data[\"destination_longitude\"] - data[\"source_longitude\"])**2\n",
    ")\n",
    "\n",
    "data.head()"
   ]
  },
  {
   "cell_type": "markdown",
   "metadata": {},
   "source": [
    "### Create train and test datasets and scale the features for neural net use"
   ]
  },
  {
   "cell_type": "code",
   "execution_count": 4,
   "metadata": {
    "collapsed": true
   },
   "outputs": [],
   "source": [
    "np.random.seed(0)\n",
    "\n",
    "# Create X and y\n",
    "X = data.drop([\"commute_time\"], axis=1)\n",
    "y = data[\"commute_time\"]\n",
    "\n",
    "# Scale features\n",
    "X = StandardScaler().fit_transform(X)\n",
    "\n",
    "# Train and test sets\n",
    "X_train, X_test, y_train, y_test = train_test_split(X, y, test_size=0.2)"
   ]
  },
  {
   "cell_type": "markdown",
   "metadata": {},
   "source": [
    "### Linear regression"
   ]
  },
  {
   "cell_type": "code",
   "execution_count": 5,
   "metadata": {},
   "outputs": [
    {
     "name": "stdout",
     "output_type": "stream",
     "text": [
      "RMSE linear regression : 5.59\n",
      "( R^2 : 0.333 )\n"
     ]
    }
   ],
   "source": [
    "# Train a linear regression\n",
    "lr = LinearRegression()\n",
    "lr.fit(X_train, y_train)\n",
    "\n",
    "# Calculate its RMSE\n",
    "lr_rmse = np.sqrt(np.mean( (lr.predict(X_test) - y_test)**2 ) )\n",
    "print(\"RMSE linear regression : {:.2f}\".format(lr_rmse))\n",
    "print(\"( R^2 : {:.3f} )\".format(lr.score(X_test, y_test)))"
   ]
  },
  {
   "cell_type": "markdown",
   "metadata": {},
   "source": [
    "### Neural net"
   ]
  },
  {
   "cell_type": "code",
   "execution_count": 6,
   "metadata": {
    "scrolled": false
   },
   "outputs": [
    {
     "name": "stdout",
     "output_type": "stream",
     "text": [
      "RMSE neural network : 4.76\n"
     ]
    },
    {
     "data": {
      "text/plain": [
       "[<matplotlib.lines.Line2D at 0x1a2fb94908>]"
      ]
     },
     "execution_count": 6,
     "metadata": {},
     "output_type": "execute_result"
    },
    {
     "data": {
      "image/png": "[encoded data removed]",
      "text/plain": [
       "<Figure size 432x288 with 1 Axes>"
      ]
     },
     "metadata": {},
     "output_type": "display_data"
    }
   ],
   "source": [
    "# Simple neural net : three hidden layers, Adam optimiser\n",
    "\n",
    "model = Sequential()\n",
    "\n",
    "model.add(Dense(512, activation=\"relu\", input_dim=X_train.shape[1]))\n",
    "model.add(BatchNormalization())\n",
    "model.add(Dense(512, activation=\"relu\"))\n",
    "model.add(BatchNormalization())\n",
    "model.add(Dense(256, activation=\"relu\"))\n",
    "model.add(BatchNormalization())\n",
    "model.add(Dense(1, activation=\"linear\"))\n",
    "\n",
    "model.compile(loss=\"mse\", optimizer=\"adam\")\n",
    "\n",
    "history = model.fit(\n",
    "    X_train, y_train,\n",
    "    batch_size=64,\n",
    "    epochs=30,\n",
    "    verbose=0,\n",
    "    validation_data=(X_test, y_test)\n",
    ")\n",
    "\n",
    "# Calculate RMSE\n",
    "nn_rmse = np.sqrt(model.evaluate(X_test, y_test, verbose=0))\n",
    "print(\"RMSE neural network : {:.2f}\".format(nn_rmse))\n",
    "\n",
    "plt.semilogy(history.history[\"loss\"])\n",
    "plt.semilogy(history.history[\"val_loss\"])"
   ]
  },
  {
   "cell_type": "code",
   "execution_count": 38,
   "metadata": {},
   "outputs": [
    {
     "data": {
      "text/plain": [
       "<matplotlib.legend.Legend at 0x1a947ef5f8>"
      ]
     },
     "execution_count": 38,
     "metadata": {},
     "output_type": "execute_result"
    },
    {
     "data": {
      "image/png": "[encoded data removed]",
      "text/plain": [
       "<Figure size 432x288 with 1 Axes>"
      ]
     },
     "metadata": {},
     "output_type": "display_data"
    }
   ],
   "source": [
    "plt.hist(data[\"commute_time\"], bins=200)\n",
    "plt.axvline(nn_rmse, c=\"k\")\n",
    "plt.axvline(lr_rmse, c=\"r\")\n",
    "plt.xlim(0, 30)\n",
    "plt.title(\"Distribution of commute times\")\n",
    "plt.legend([\"NN error\", \"LR error\"])"
   ]
  },
  {
   "cell_type": "markdown",
   "metadata": {},
   "source": [
    "### TL; DR :\n",
    "\n",
    "RMSE of 4.76 for neural nets and 5.59 for linear regression. Compared with the distribution of commute times, it's \"realistic\", sure, but not great or encouraging. I'm going to keep tweaking the net, and we might have more features, but I think we can make this a little easier -- not much, just a touch."
   ]
  },
  {
   "cell_type": "code",
   "execution_count": null,
   "metadata": {
    "collapsed": true
   },
   "outputs": [],
   "source": []
  },
  {
   "cell_type": "code",
   "execution_count": null,
   "metadata": {
    "collapsed": true
   },
   "outputs": [],
   "source": []
  },
  {
   "cell_type": "markdown",
   "metadata": {},
   "source": [
    "### Ignore -- grid-searching NNs for posterity"
   ]
  },
  {
   "cell_type": "code",
   "execution_count": 30,
   "metadata": {
    "collapsed": true
   },
   "outputs": [],
   "source": [
    "layers = [1, 2, 3, 4, 5, 6, 7]\n",
    "layer_sizes = [64, 128, 256, 512]\n",
    "reg_type = [\"bn\", \"do\", None]\n",
    "\n",
    "np.random.seed(0)\n",
    "\n",
    "def score_nn(layers, layer_size, reg):\n",
    "    \n",
    "    np.random.seed(0)\n",
    "    \n",
    "    model = Sequential()\n",
    "    \n",
    "    model.add(Dense(layer_size, activation=\"relu\", input_dim=X_train.shape[1]))\n",
    "    if reg is not None:\n",
    "        if reg == \"bn\":\n",
    "            model.add(BatchNormalization())\n",
    "        elif reg == \"do\": \n",
    "            model.add(Dropout(0.2))\n",
    "    \n",
    "    for _ in range(layers-1):\n",
    "        model.add(Dense(layer_size, activation=\"relu\"))\n",
    "        if reg is not None:\n",
    "            if reg == \"bn\":\n",
    "                model.add(BatchNormalization())\n",
    "            elif reg == \"do\": \n",
    "                model.add(Dropout(0.2))\n",
    "                \n",
    "    model.add(Dense(1, activation=\"linear\"))\n",
    "    \n",
    "    np.random.seed(0)\n",
    "    model.compile(loss=\"mse\", optimizer=\"adam\")\n",
    "    np.random.seed(0)\n",
    "\n",
    "    history = model.fit(\n",
    "        X_train, y_train,\n",
    "        batch_size=64,\n",
    "        epochs=30,\n",
    "        verbose=0,\n",
    "        validation_data=(X_test, y_test)\n",
    "    )\n",
    "\n",
    "    # Calculate RMSE\n",
    "    nn_rmse = np.sqrt(model.evaluate(X_test, y_test, verbose=0))\n",
    "\n",
    "    return nn_rmse"
   ]
  },
  {
   "cell_type": "code",
   "execution_count": null,
   "metadata": {},
   "outputs": [
    {
     "name": "stderr",
     "output_type": "stream",
     "text": [
      "DO:  43%|████▎     | 3/7 [05:18<07:02, 105.68s/it]"
     ]
    }
   ],
   "source": [
    "from tqdm import tqdm\n",
    "\n",
    "results_bn = np.zeros((len(layers), len(layer_sizes)))\n",
    "results_do = np.zeros((len(layers), len(layer_sizes)))\n",
    "results_none = np.zeros((len(layers), len(layer_sizes)))\n",
    "\n",
    "for i, layer in enumerate(tqdm(layers, desc=\"BN\")):\n",
    "    for j, layer_size in enumerate(layer_sizes):\n",
    "        results_bn[i, j] = score_nn(layer, layer_size, \"bn\")\n",
    "        \n",
    "for i, layer in enumerate(tqdm(layers, desc=\"DO\")):\n",
    "    for j, layer_size in enumerate(layer_sizes):\n",
    "        results_bn[i, j] = score_nn(layer, layer_size, \"do\")\n",
    "        \n",
    "for i, layer in enumerate(tqdm(layers, desc=\"None\")):\n",
    "    for j, layer_size in enumerate(layer_sizes):\n",
    "        results_bn[i, j] = score_nn(layer, layer_size, None)"
   ]
  },
  {
   "cell_type": "code",
   "execution_count": 33,
   "metadata": {},
   "outputs": [
    {
     "data": {
      "text/plain": [
       "5.091942824612819"
      ]
     },
     "execution_count": 33,
     "metadata": {},
     "output_type": "execute_result"
    }
   ],
   "source": [
    "results_bn"
   ]
  },
  {
   "cell_type": "code",
   "execution_count": null,
   "metadata": {
    "collapsed": true
   },
   "outputs": [],
   "source": []
  }
 ],
 "metadata": {
  "kernelspec": {
   "display_name": "Python 3",
   "language": "python",
   "name": "python3"
  },
  "language_info": {
   "codemirror_mode": {
    "name": "ipython",
    "version": 3
   },
   "file_extension": ".py",
   "mimetype": "text/x-python",
   "name": "python",
   "nbconvert_exporter": "python",
   "pygments_lexer": "ipython3",
   "version": "3.6.3"
  }
 },
 "nbformat": 4,
 "nbformat_minor": 2
}
