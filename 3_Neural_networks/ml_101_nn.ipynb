{
 "cells": [
  {
   "cell_type": "markdown",
   "metadata": {},
   "source": [
    "# Predicting commute times"
   ]
  },
  {
   "cell_type": "markdown",
   "metadata": {},
   "source": [
    "The point of this basic exercise is to train a neural network to predict the continuous `commute_time` variable, as a function of various things like source and destination coordinates, time of day, and commute type ( a categorical variable ).\n",
    "\n",
    "This is to be shown during a very introductory workshop. The end goal is to absolutely do better than a linear regression, which someone is teaching beforehand.\n",
    "\n",
    "Problem : I can train a mean convnet, but basic fully-connected nets, with no regularisation, for regression, I have no idea how to build effectively. Your insight is super appreciated ( and as soon as possible, this is next weekend... )"
   ]
  },
  {
   "cell_type": "code",
   "execution_count": 1,
   "metadata": {},
   "outputs": [
    {
     "name": "stderr",
     "output_type": "stream",
     "text": [
      "Using TensorFlow backend.\n"
     ]
    }
   ],
   "source": [
    "import numpy as np\n",
    "import pandas as pd \n",
    "import matplotlib.pyplot as plt\n",
    "\n",
    "from sklearn.linear_model import LinearRegression\n",
    "from sklearn.preprocessing import StandardScaler\n",
    "\n",
    "from sklearn.model_selection import train_test_split\n",
    "from keras.models import Sequential\n",
    "from keras.layers import Dense, Dropout\n",
    "\n",
    "%matplotlib inline"
   ]
  },
  {
   "cell_type": "markdown",
   "metadata": {},
   "source": [
    "### Raw data"
   ]
  },
  {
   "cell_type": "markdown",
   "metadata": {},
   "source": [
    "The raw data is pretty trivial. I know that commute time is a function of the L1 distance between source and destination ( although that is hidden knowledge that the workshop audience will not have ). The data is pretty hard, we'll be making it somewhat easier, but that doesn't change the fact a neural net *should* do better."
   ]
  },
  {
   "cell_type": "code",
   "execution_count": 2,
   "metadata": {
    "scrolled": true
   },
   "outputs": [
    {
     "data": {
      "text/html": [
       "<div>\n",
       "<style scoped>\n",
       "    .dataframe tbody tr th:only-of-type {\n",
       "        vertical-align: middle;\n",
       "    }\n",
       "\n",
       "    .dataframe tbody tr th {\n",
       "        vertical-align: top;\n",
       "    }\n",
       "\n",
       "    .dataframe thead th {\n",
       "        text-align: right;\n",
       "    }\n",
       "</style>\n",
       "<table border=\"1\" class=\"dataframe\">\n",
       "  <thead>\n",
       "    <tr style=\"text-align: right;\">\n",
       "      <th></th>\n",
       "      <th>source_latitude</th>\n",
       "      <th>source_longitude</th>\n",
       "      <th>destination_latitude</th>\n",
       "      <th>destination_longitude</th>\n",
       "      <th>time_of_day</th>\n",
       "      <th>commute_type</th>\n",
       "      <th>commute_time</th>\n",
       "    </tr>\n",
       "  </thead>\n",
       "  <tbody>\n",
       "    <tr>\n",
       "      <th>0</th>\n",
       "      <td>0.824392</td>\n",
       "      <td>0.475742</td>\n",
       "      <td>0.933873</td>\n",
       "      <td>-0.292262</td>\n",
       "      <td>8.856115</td>\n",
       "      <td>TRAIN</td>\n",
       "      <td>1.028704</td>\n",
       "    </tr>\n",
       "    <tr>\n",
       "      <th>1</th>\n",
       "      <td>0.795889</td>\n",
       "      <td>0.075121</td>\n",
       "      <td>0.240722</td>\n",
       "      <td>0.465027</td>\n",
       "      <td>9.058129</td>\n",
       "      <td>BIKE</td>\n",
       "      <td>4.634294</td>\n",
       "    </tr>\n",
       "    <tr>\n",
       "      <th>2</th>\n",
       "      <td>-0.902398</td>\n",
       "      <td>0.124019</td>\n",
       "      <td>0.666059</td>\n",
       "      <td>-0.260070</td>\n",
       "      <td>8.524607</td>\n",
       "      <td>CAR</td>\n",
       "      <td>6.491592</td>\n",
       "    </tr>\n",
       "    <tr>\n",
       "      <th>3</th>\n",
       "      <td>0.496755</td>\n",
       "      <td>-0.747187</td>\n",
       "      <td>0.161702</td>\n",
       "      <td>0.385728</td>\n",
       "      <td>9.676583</td>\n",
       "      <td>BUS</td>\n",
       "      <td>5.415297</td>\n",
       "    </tr>\n",
       "    <tr>\n",
       "      <th>4</th>\n",
       "      <td>-0.085848</td>\n",
       "      <td>-0.914451</td>\n",
       "      <td>-0.058177</td>\n",
       "      <td>0.278478</td>\n",
       "      <td>14.784042</td>\n",
       "      <td>BUS</td>\n",
       "      <td>1.499639</td>\n",
       "    </tr>\n",
       "  </tbody>\n",
       "</table>\n",
       "</div>"
      ],
      "text/plain": [
       "   source_latitude  source_longitude  destination_latitude  \\\n",
       "0         0.824392          0.475742              0.933873   \n",
       "1         0.795889          0.075121              0.240722   \n",
       "2        -0.902398          0.124019              0.666059   \n",
       "3         0.496755         -0.747187              0.161702   \n",
       "4        -0.085848         -0.914451             -0.058177   \n",
       "\n",
       "   destination_longitude  time_of_day commute_type  commute_time  \n",
       "0              -0.292262     8.856115        TRAIN      1.028704  \n",
       "1               0.465027     9.058129         BIKE      4.634294  \n",
       "2              -0.260070     8.524607          CAR      6.491592  \n",
       "3               0.385728     9.676583          BUS      5.415297  \n",
       "4               0.278478    14.784042          BUS      1.499639  "
      ]
     },
     "execution_count": 2,
     "metadata": {},
     "output_type": "execute_result"
    }
   ],
   "source": [
    "data = pd.read_csv(\"../data/commute_times.csv\")\n",
    "\n",
    "data.head()"
   ]
  },
  {
   "cell_type": "markdown",
   "metadata": {},
   "source": [
    "### Generate some basic features"
   ]
  },
  {
   "cell_type": "code",
   "execution_count": 3,
   "metadata": {},
   "outputs": [
    {
     "data": {
      "text/html": [
       "<div>\n",
       "<style scoped>\n",
       "    .dataframe tbody tr th:only-of-type {\n",
       "        vertical-align: middle;\n",
       "    }\n",
       "\n",
       "    .dataframe tbody tr th {\n",
       "        vertical-align: top;\n",
       "    }\n",
       "\n",
       "    .dataframe thead th {\n",
       "        text-align: right;\n",
       "    }\n",
       "</style>\n",
       "<table border=\"1\" class=\"dataframe\">\n",
       "  <thead>\n",
       "    <tr style=\"text-align: right;\">\n",
       "      <th></th>\n",
       "      <th>source_latitude</th>\n",
       "      <th>source_longitude</th>\n",
       "      <th>destination_latitude</th>\n",
       "      <th>destination_longitude</th>\n",
       "      <th>time_of_day</th>\n",
       "      <th>commute_time</th>\n",
       "      <th>BIKE</th>\n",
       "      <th>BUS</th>\n",
       "      <th>CAR</th>\n",
       "      <th>TRAIN</th>\n",
       "      <th>WALK</th>\n",
       "      <th>distance</th>\n",
       "    </tr>\n",
       "  </thead>\n",
       "  <tbody>\n",
       "    <tr>\n",
       "      <th>0</th>\n",
       "      <td>0.824392</td>\n",
       "      <td>0.475742</td>\n",
       "      <td>0.933873</td>\n",
       "      <td>-0.292262</td>\n",
       "      <td>8.856115</td>\n",
       "      <td>1.028704</td>\n",
       "      <td>0</td>\n",
       "      <td>0</td>\n",
       "      <td>0</td>\n",
       "      <td>1</td>\n",
       "      <td>0</td>\n",
       "      <td>0.775768</td>\n",
       "    </tr>\n",
       "    <tr>\n",
       "      <th>1</th>\n",
       "      <td>0.795889</td>\n",
       "      <td>0.075121</td>\n",
       "      <td>0.240722</td>\n",
       "      <td>0.465027</td>\n",
       "      <td>9.058129</td>\n",
       "      <td>4.634294</td>\n",
       "      <td>1</td>\n",
       "      <td>0</td>\n",
       "      <td>0</td>\n",
       "      <td>0</td>\n",
       "      <td>0</td>\n",
       "      <td>0.678408</td>\n",
       "    </tr>\n",
       "    <tr>\n",
       "      <th>2</th>\n",
       "      <td>-0.902398</td>\n",
       "      <td>0.124019</td>\n",
       "      <td>0.666059</td>\n",
       "      <td>-0.260070</td>\n",
       "      <td>8.524607</td>\n",
       "      <td>6.491592</td>\n",
       "      <td>0</td>\n",
       "      <td>0</td>\n",
       "      <td>1</td>\n",
       "      <td>0</td>\n",
       "      <td>0</td>\n",
       "      <td>1.614800</td>\n",
       "    </tr>\n",
       "    <tr>\n",
       "      <th>3</th>\n",
       "      <td>0.496755</td>\n",
       "      <td>-0.747187</td>\n",
       "      <td>0.161702</td>\n",
       "      <td>0.385728</td>\n",
       "      <td>9.676583</td>\n",
       "      <td>5.415297</td>\n",
       "      <td>0</td>\n",
       "      <td>1</td>\n",
       "      <td>0</td>\n",
       "      <td>0</td>\n",
       "      <td>0</td>\n",
       "      <td>1.181421</td>\n",
       "    </tr>\n",
       "    <tr>\n",
       "      <th>4</th>\n",
       "      <td>-0.085848</td>\n",
       "      <td>-0.914451</td>\n",
       "      <td>-0.058177</td>\n",
       "      <td>0.278478</td>\n",
       "      <td>14.784042</td>\n",
       "      <td>1.499639</td>\n",
       "      <td>0</td>\n",
       "      <td>1</td>\n",
       "      <td>0</td>\n",
       "      <td>0</td>\n",
       "      <td>0</td>\n",
       "      <td>1.193250</td>\n",
       "    </tr>\n",
       "  </tbody>\n",
       "</table>\n",
       "</div>"
      ],
      "text/plain": [
       "   source_latitude  source_longitude  destination_latitude  \\\n",
       "0         0.824392          0.475742              0.933873   \n",
       "1         0.795889          0.075121              0.240722   \n",
       "2        -0.902398          0.124019              0.666059   \n",
       "3         0.496755         -0.747187              0.161702   \n",
       "4        -0.085848         -0.914451             -0.058177   \n",
       "\n",
       "   destination_longitude  time_of_day  commute_time  BIKE  BUS  CAR  TRAIN  \\\n",
       "0              -0.292262     8.856115      1.028704     0    0    0      1   \n",
       "1               0.465027     9.058129      4.634294     1    0    0      0   \n",
       "2              -0.260070     8.524607      6.491592     0    0    1      0   \n",
       "3               0.385728     9.676583      5.415297     0    1    0      0   \n",
       "4               0.278478    14.784042      1.499639     0    1    0      0   \n",
       "\n",
       "   WALK  distance  \n",
       "0     0  0.775768  \n",
       "1     0  0.678408  \n",
       "2     0  1.614800  \n",
       "3     0  1.181421  \n",
       "4     0  1.193250  "
      ]
     },
     "execution_count": 3,
     "metadata": {},
     "output_type": "execute_result"
    }
   ],
   "source": [
    "# Create some categorical variables from commute_type\n",
    "data = pd.concat([data, pd.get_dummies(data[\"commute_type\"])], axis=1).drop([\"commute_type\"], axis=1)\n",
    "\n",
    "# Add L2 norm\n",
    "data.loc[:, \"distance\"] = np.sqrt(\n",
    "    (data[\"destination_latitude\"] - data[\"source_latitude\"])**2 +\n",
    "    (data[\"destination_longitude\"] - data[\"source_longitude\"])**2\n",
    ")\n",
    "\n",
    "data.head()"
   ]
  },
  {
   "cell_type": "markdown",
   "metadata": {},
   "source": [
    "### Create train and test datasets and scale the features for neural net use"
   ]
  },
  {
   "cell_type": "code",
   "execution_count": 4,
   "metadata": {},
   "outputs": [],
   "source": [
    "np.random.seed(0)\n",
    "\n",
    "# Create X and y\n",
    "X = data.drop([\"commute_time\"], axis=1)\n",
    "y = data[\"commute_time\"]\n",
    "\n",
    "# Scale features\n",
    "X = StandardScaler().fit_transform(X)\n",
    "\n",
    "# Train and test sets\n",
    "X_train, X_test, y_train, y_test = train_test_split(X, y, test_size=0.2)"
   ]
  },
  {
   "cell_type": "markdown",
   "metadata": {},
   "source": [
    "### Linear regression"
   ]
  },
  {
   "cell_type": "code",
   "execution_count": 5,
   "metadata": {},
   "outputs": [
    {
     "name": "stdout",
     "output_type": "stream",
     "text": [
      "RMSE linear regression : 5.59\n",
      "( R^2 : 0.333 )\n"
     ]
    }
   ],
   "source": [
    "# Train a linear regression\n",
    "lr = LinearRegression()\n",
    "lr.fit(X_train, y_train)\n",
    "\n",
    "# Calculate its RMSE\n",
    "lr_rmse = np.sqrt(np.mean((lr.predict(X_test) - y_test) **2 ))\n",
    "print(\"RMSE linear regression : {:.2f}\".format(lr_rmse))\n",
    "print(\"( R^2 : {:.3f} )\".format(lr.score(X_test, y_test)))"
   ]
  },
  {
   "cell_type": "markdown",
   "metadata": {},
   "source": [
    "### Neural net"
   ]
  },
  {
   "cell_type": "code",
   "execution_count": 6,
   "metadata": {
    "scrolled": false
   },
   "outputs": [
    {
     "name": "stdout",
     "output_type": "stream",
     "text": [
      "RMSE neural network : 5.04\n"
     ]
    },
    {
     "data": {
      "image/png": "[encoded data removed]",
      "text/plain": [
       "<Figure size 864x288 with 2 Axes>"
      ]
     },
     "metadata": {},
     "output_type": "display_data"
    }
   ],
   "source": [
    "model = Sequential()\n",
    "\n",
    "model.add(Dense(512, activation=\"relu\", input_dim=X_train.shape[1]))\n",
    "model.add(Dropout(0.2))\n",
    "model.add(Dense(512, activation=\"relu\"))\n",
    "model.add(Dropout(0.2))\n",
    "model.add(Dense(256, activation=\"relu\"))\n",
    "model.add(Dropout(0.2))\n",
    "model.add(Dense(1, activation=\"relu\"))\n",
    "\n",
    "model.compile(loss=\"mse\", optimizer=\"adam\")\n",
    "\n",
    "history = model.fit(\n",
    "    X_train, y_train,\n",
    "    batch_size=256,\n",
    "    epochs=50,\n",
    "    verbose=0,\n",
    "    validation_data=(X_test, y_test)\n",
    ")\n",
    "\n",
    "# Calculate RMSE\n",
    "nn_rmse = np.sqrt(model.evaluate(X_test, y_test, verbose=0))\n",
    "print(\"RMSE neural network : {:.2f}\".format(nn_rmse))\n",
    "\n",
    "\n",
    "plt.figure(figsize=(12, 4))\n",
    "\n",
    "plt.subplot(121)\n",
    "plt.semilogy(history.history[\"loss\"])\n",
    "plt.semilogy(history.history[\"val_loss\"])\n",
    "\n",
    "plt.subplot(122)\n",
    "plt.hist(data[\"commute_time\"], bins=50)\n",
    "plt.axvline(nn_rmse, c=\"k\")\n",
    "\n",
    "plt.tight_layout()"
   ]
  },
  {
   "cell_type": "code",
   "execution_count": null,
   "metadata": {},
   "outputs": [],
   "source": []
  }
 ],
 "metadata": {
  "kernelspec": {
   "display_name": "Python [default]",
   "language": "python",
   "name": "python3"
  },
  "language_info": {
   "codemirror_mode": {
    "name": "ipython",
    "version": 3
   },
   "file_extension": ".py",
   "mimetype": "text/x-python",
   "name": "python",
   "nbconvert_exporter": "python",
   "pygments_lexer": "ipython3",
   "version": "3.6.5"
  }
 },
 "nbformat": 4,
 "nbformat_minor": 2
}
