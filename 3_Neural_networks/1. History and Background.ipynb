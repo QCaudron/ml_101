{
 "cells": [
  {
   "cell_type": "markdown",
   "metadata": {
    "slideshow": {
     "slide_type": "slide"
    }
   },
   "source": [
    "# Neural networks -- a little history and background"
   ]
  },
  {
   "cell_type": "markdown",
   "metadata": {
    "slideshow": {
     "slide_type": "slide"
    }
   },
   "source": [
    "### Not a new idea\n",
    "\n",
    "Neural networks were first proposed in 1943. A [paper by McCulloch and Pitts](http://www.cse.chalmers.se/~coquand/AUTOMATA/mcp.pdf), inspired by neurophysiology, introduced highly simplified \"neurons\" that could be interconnected, forming the first mathematical model of a neural network."
   ]
  },
  {
   "cell_type": "markdown",
   "metadata": {
    "slideshow": {
     "slide_type": "slide"
    }
   },
   "source": [
    "### Winter is coming\n",
    "\n",
    "In 1969, a <a href=\"https://en.wikipedia.org/wiki/Perceptrons_(book)\">book by Minsky and Papert</a>, seeming to highlight severe limitations of these \"connectionist\" models, brought research in this subfield of AI [to a complete stop](https://en.wikipedia.org/wiki/AI_winter). It wasn't until the mid-eighties, with the work of [Hopfield, Rumelhart, Hinton, and Williams](https://books.google.com/books/about/AI.html?id=QJNQAAAAMAAJ), that interest (and funding) in neural networks began anew.\n",
    "\n",
    "Research into neural networks suffered not one, but two *AI winters*. Though the second winter was largely perceptual and economical, with some progress still being made, it wasn't until a combination of factors aligned that neural networks started to truly flourish. Amongst those factors : computational power and big(ger) data."
   ]
  },
  {
   "cell_type": "markdown",
   "metadata": {
    "slideshow": {
     "slide_type": "slide"
    }
   },
   "source": [
    "### What's in a name ?\n",
    "\n",
    "The fundamental computational unit of a neural network is the *neuron*."
   ]
  },
  {
   "cell_type": "markdown",
   "metadata": {},
   "source": [
    "<img src=\"images/bio_neuron.png\" width=\"500px\" />"
   ]
  },
  {
   "cell_type": "markdown",
   "metadata": {
    "slideshow": {
     "slide_type": "subslide"
    }
   },
   "source": [
    "<img src=\"images/neuron.png\" width=\"500px\" />"
   ]
  },
  {
   "cell_type": "markdown",
   "metadata": {
    "slideshow": {
     "slide_type": "fragment"
    }
   },
   "source": [
    "A neuron accepts a number of inputs, *processes* them, and returns a single value. The early McCulloch and Pitts neurons are a little different to today's models, but fundamentally, they operate in a similar manner."
   ]
  },
  {
   "cell_type": "markdown",
   "metadata": {
    "slideshow": {
     "slide_type": "subslide"
    }
   },
   "source": [
    "### Inputs\n",
    "\n",
    "The inputs to our neuron, $x$, are often *real numbers* like 0.042 or -3.14. Each neuron has one or more inputs.\n",
    "\n",
    "So far, we have :\n",
    "$$\n",
    "\\displaystyle x_1 \\quad x_2 \\quad x_3\n",
    "$$"
   ]
  },
  {
   "cell_type": "markdown",
   "metadata": {
    "slideshow": {
     "slide_type": "subslide"
    }
   },
   "source": [
    "### Weights\n",
    "\n",
    "Each input is *weighted* by a real number. The weights, $w$, essentially determine the importance for each input. **Weights are what we're interested in learning.**\n",
    "\n",
    "So far, we have :\n",
    "$$\n",
    "\\displaystyle w_1 \\times x_1 \\quad w_2 \\times x_2 \\quad w_3 \\times x_3\n",
    "$$"
   ]
  },
  {
   "cell_type": "markdown",
   "metadata": {
    "slideshow": {
     "slide_type": "subslide"
    }
   },
   "source": [
    "### Summing the weighted inputs\n",
    "\n",
    "After each input has been weighted by its own weight, we add everything up into a single number, $z$.\n",
    "\n",
    "So far, we have :\n",
    "$$\n",
    "\\displaystyle z \\; = \\; w_1 x_1 \\; + \\; w_2 x_2 \\; + \\; w_3 x_3\n",
    "$$"
   ]
  },
  {
   "cell_type": "markdown",
   "metadata": {
    "slideshow": {
     "slide_type": "fragment"
    }
   },
   "source": [
    "... but wait -- isn't this just a linear regression ?"
   ]
  },
  {
   "cell_type": "markdown",
   "metadata": {
    "slideshow": {
     "slide_type": "subslide"
    }
   },
   "source": [
    "### Enter the activation function\n",
    "\n",
    "[Activation functions](https://en.wikipedia.org/wiki/Activation_function) are (generally) non-linear functions that we apply to $z$ to compute the neuron's final output. Let's call them $\\phi(z)$.\n",
    "\n",
    "Early activation functions, inspired from biological neurons, were binary : either 0 or 1, \"spiking or not\". Today, we often opt for the *ReLU* activation function."
   ]
  },
  {
   "cell_type": "code",
   "execution_count": 1,
   "metadata": {
    "slideshow": {
     "slide_type": "skip"
    }
   },
   "outputs": [],
   "source": [
    "import numpy as np\n",
    "import matplotlib.pyplot as plt\n",
    "%matplotlib inline\n",
    "\n",
    "# Some interesting space of weighted inputs to consider\n",
    "x = np.linspace(-5, 5, 100)\n",
    "\n",
    "# Define a few classic activation functions \n",
    "heaviside = x >= 0\n",
    "sigmoid = 1 / (1 + np.exp(-x))\n",
    "tanh = np.tanh(x)\n",
    "relu = np.maximum(0, x)\n",
    "\n",
    "# Plotting lines at x = 0 and y = 0\n",
    "def plot_zeros():\n",
    "    plt.axhline(0, c=\"k\", ls=\"--\")\n",
    "    plt.axvline(0, c=\"k\", ls=\"--\")\n",
    "    \n",
    "# Plot all the things\n",
    "def plot_activation_functions():\n",
    "    \n",
    "    plt.figure(figsize=(14, 6))\n",
    "    \n",
    "    plt.subplot(2, 2, 1)\n",
    "    plot_zeros()\n",
    "    plt.plot(x, heaviside, lw=5, alpha=0.8)\n",
    "    plt.title(\"Heaviside (binary)\")\n",
    "    \n",
    "    plt.subplot(2, 2, 2)\n",
    "    plot_zeros()\n",
    "    plt.plot(x, sigmoid, lw=5, alpha=0.8)\n",
    "    plt.title(\"Sigmoid\")\n",
    "    \n",
    "    plt.subplot(2, 2, 3)\n",
    "    plot_zeros()\n",
    "    plt.plot(x, tanh, lw=5, alpha=0.8)\n",
    "    plt.title(\"Hyperbolic tangent\")\n",
    "    \n",
    "    plt.subplot(2, 2, 4)\n",
    "    plot_zeros()\n",
    "    plt.plot(x, relu, lw=5, alpha=0.8)\n",
    "    plt.title(\"Rectified linear unit (ReLU)\")\n",
    "    \n",
    "    plt.tight_layout()"
   ]
  },
  {
   "cell_type": "code",
   "execution_count": 2,
   "metadata": {
    "slideshow": {
     "slide_type": "subslide"
    }
   },
   "outputs": [
    {
     "data": {
      "image/png": "[encoded data removed]",
      "text/plain": [
       "<matplotlib.figure.Figure at 0x173483c1710>"
      ]
     },
     "metadata": {},
     "output_type": "display_data"
    }
   ],
   "source": [
    "plot_activation_functions()"
   ]
  },
  {
   "cell_type": "markdown",
   "metadata": {
    "slideshow": {
     "slide_type": "subslide"
    }
   },
   "source": [
    "### A neuron's output\n",
    "\n",
    "After weighting inputs, summing the result, and passing that through an activation function, we finally have the neuron's output.\n",
    "\n",
    "Finally, we have :\n",
    "\n",
    "$$\n",
    "y \\; = \\; \\phi(z) \\; = \\; \\phi \\left( \\sum_{i=1}^N w_i \\, x_i \\right)\n",
    "$$"
   ]
  },
  {
   "cell_type": "markdown",
   "metadata": {
    "slideshow": {
     "slide_type": "subslide"
    }
   },
   "source": [
    "### Why activation functions ?\n",
    "\n",
    "Activation functions introduce nonlinearity into the network. This allows us to model relationships between inputs and outputs as nonlinear functions. \n",
    "\n",
    "Without nonlinear activation functions, a deep neural network with many layers would behave only as a single linear neuron, because outputs would be linear functions of their inputs."
   ]
  },
  {
   "cell_type": "markdown",
   "metadata": {
    "slideshow": {
     "slide_type": "subslide"
    }
   },
   "source": [
    "### Properties of activation functions\n",
    "\n",
    "- monotonic\n",
    "- often saturate as $|\\,x\\,| \\to \\infty$ (although less these days)\n",
    "- have well-defined derivatives"
   ]
  },
  {
   "cell_type": "markdown",
   "metadata": {
    "slideshow": {
     "slide_type": "slide"
    }
   },
   "source": [
    "### Neural networks -- putting it all together\n",
    "\n",
    "A neural network is simply a bunch of neurons connected together.\n",
    "\n",
    "<img src=\"images/nn.png\" width=\"400px\" />"
   ]
  },
  {
   "cell_type": "markdown",
   "metadata": {
    "slideshow": {
     "slide_type": "subslide"
    }
   },
   "source": [
    "### Anatomy of a neural network\n",
    "\n",
    "Most neural networks these days have well-defined *layers*. The *input layer* is the very first layer, where the data go. There's one neuron per dimension of the data.\n",
    "\n",
    "The neural network's output, at the last layer, is of course called the *output layer* (even if there's only one output). \n",
    "\n",
    "In between are the *hidden layers*. "
   ]
  },
  {
   "cell_type": "markdown",
   "metadata": {
    "slideshow": {
     "slide_type": "fragment"
    }
   },
   "source": [
    "Remember that each arrow here represents a weight, $w_i$, and that each node represents the summing of that neuron's weighted inputs, followed by an activation function."
   ]
  },
  {
   "cell_type": "markdown",
   "metadata": {
    "slideshow": {
     "slide_type": "slide"
    }
   },
   "source": [
    "### Making predictions\n",
    "\n",
    "To obtain a prediction from a neural network, we simply present it with the data. For each neuron, inputs will be multiplied by their weights, summed, pushed through an activation function, and then passed down the line to the next neuron. This continues until we arrive at the output layer, where our prediction is ready."
   ]
  },
  {
   "cell_type": "markdown",
   "metadata": {
    "slideshow": {
     "slide_type": "slide"
    }
   },
   "source": [
    "### Neural networks as models\n",
    "\n",
    "When we create a neural network, we pick some properties quite deliberately (the number of layers, the number of neurons in each layer, the activation functions), but some things, we leave to chance. In particular, the weights $w$ are initialised (almost) randomly.\n",
    "\n",
    "How then, can we expect to have a reasonable prediction by presenting our data to this network with random weights ?"
   ]
  },
  {
   "cell_type": "markdown",
   "metadata": {
    "slideshow": {
     "slide_type": "fragment"
    }
   },
   "source": [
    "The answer is *backpropagation* and *gradient descent*."
   ]
  },
  {
   "cell_type": "markdown",
   "metadata": {
    "slideshow": {
     "slide_type": "subslide"
    }
   },
   "source": [
    "### Backpropagation\n",
    "\n",
    "Backpropagation is a method for calculating the *gradient* of the loss function with respect to the weights. In simpler terms, backpropagation is the use of calculus to figure out in which direction we should push each weight in our network, in order to improve on our loss function.\n",
    "\n",
    "The fundamental assumption we're making here is that there is a \"good direction\" to go in adjusting our weights. That's where gradient descent comes in."
   ]
  },
  {
   "cell_type": "markdown",
   "metadata": {
    "slideshow": {
     "slide_type": "subslide"
    }
   },
   "source": [
    "### Gradient descent\n",
    "\n",
    "Imagine you're up in the Cascades, and you're trying to get off the mountain, down to sea level. Imagine you can't see very far around you, that there's a heavy fog. In fact, you can only see as far as your outstretched arm. \n",
    "\n",
    "You look around you, pick the direction that causes you to lose the maximum elevation, and take a step. Then, you start again."
   ]
  },
  {
   "cell_type": "markdown",
   "metadata": {
    "slideshow": {
     "slide_type": "fragment"
    }
   },
   "source": [
    "In this analogy, your height above sea level is the value of the loss function, your map coordinates is the set of weights, and you taking a step is the updating of our weights. "
   ]
  },
  {
   "cell_type": "markdown",
   "metadata": {
    "slideshow": {
     "slide_type": "subslide"
    }
   },
   "source": [
    "### Taking steps in weight space\n",
    "\n",
    "We don't know how high the mountain is at all points on the map. That is, we don't know what the value of the loss function is, for all sets of weights. We can figure out how high we are for the point on the map we're at, and we can figure out, for a very small area around us, which direction would best take us lower in elevation."
   ]
  },
  {
   "cell_type": "markdown",
   "metadata": {
    "slideshow": {
     "slide_type": "fragment"
    }
   },
   "source": [
    "We can evaluate how much the loss function drops or increases for each direction around us by using backpropagation. Taking a step in that direction, is *gradient descent*."
   ]
  },
  {
   "cell_type": "markdown",
   "metadata": {
    "slideshow": {
     "slide_type": "subslide"
    }
   },
   "source": [
    "<img src=\"images/gradient_descent.png\" width=\"600px\" />"
   ]
  },
  {
   "cell_type": "markdown",
   "metadata": {
    "slideshow": {
     "slide_type": "subslide"
    }
   },
   "source": [
    "### Training a neural network\n",
    "\n",
    "In a nutshell, the procedure to train a neural network goes like this :\n",
    "- given some data, make a prediction by pushing it through the network\n",
    "- calculate how well you're doing, by using a loss function\n",
    "- calculate at each layer how the errors will change when we change the weights at this layer (backpropagation)\n",
    "- pick a small change in the weights that will reduce the error (gradient descent)\n",
    "- rinse and repeat"
   ]
  },
  {
   "cell_type": "markdown",
   "metadata": {
    "slideshow": {
     "slide_type": "subslide"
    }
   },
   "source": [
    "### Breaking it down\n",
    "\n",
    "For a given set of weights, we can see how close our predictions are to our data. \"How close\" is measured by a loss function, which captures our prediction errors in a single number.\n",
    "\n",
    "Using calculus, we can figure out how our loss function changes, if we make small, simple changes to our weights.\n",
    "\n",
    "By repeatedly trying some predictions, assessing our loss, determining which small changes should make to our weights, and applying those changes, we should progressively get closer and closer to a set of weights that works well for our problem."
   ]
  },
  {
   "cell_type": "markdown",
   "metadata": {
    "slideshow": {
     "slide_type": "subslide"
    }
   },
   "source": [
    "### Weights that work\n",
    "\n",
    "To train a neural network, the general idea is to repeatedly update the network's weights, by using backpropagation, until you reach a point where the network is doing what you expect.\n",
    "\n",
    "Whilst there's no guarantee that backpropagation will find the optimal set of weights, or even a set of weights that works even reasonably (depending on your data, your problem, and your network's architecture), we do know that [a neural network is capable of learning continuous functions](https://en.wikipedia.org/wiki/Universal_approximation_theorem) under certain conditions -- and often, a neural network can do pretty well, if the problem is appropriate."
   ]
  },
  {
   "cell_type": "markdown",
   "metadata": {
    "slideshow": {
     "slide_type": "slide"
    }
   },
   "source": [
    "### Wrapping up\n",
    "\n",
    "A neural network is a connected set of simple neurons. These neurons take in inputs, which they weigh, sum, and apply an activation function to.\n",
    "\n",
    "The part of the network that we change when we're training it is the set of weights, $w$. Because this is done a little at a time, we have to go through the entire dataset many times -- this is called an *epoch*.\n",
    "\n",
    "Assuming the network is correctly set up and suits the problem, and that the data are reasonable, we can expect a neural network that produces reasonable predictions after a number of training epochs."
   ]
  }
 ],
 "metadata": {
  "celltoolbar": "Slideshow",
  "kernelspec": {
   "display_name": "Python 3",
   "language": "python",
   "name": "python3"
  },
  "language_info": {
   "codemirror_mode": {
    "name": "ipython",
    "version": 3
   },
   "file_extension": ".py",
   "mimetype": "text/x-python",
   "name": "python",
   "nbconvert_exporter": "python",
   "pygments_lexer": "ipython3",
   "version": "3.6.3"
  }
 },
 "nbformat": 4,
 "nbformat_minor": 2
}
