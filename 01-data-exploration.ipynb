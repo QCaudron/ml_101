{
 "cells": [
  {
   "cell_type": "markdown",
   "metadata": {},
   "source": [
    "### Data import, EDA\n",
    "#### Add'l useful information here.\n",
    "#### Date, event info, etc"
   ]
  },
  {
   "cell_type": "code",
   "execution_count": 1,
   "metadata": {
    "collapsed": true
   },
   "outputs": [],
   "source": [
    "# Import libraries\n",
    "\n",
    "# Data exploration\n",
    "import pandas as pd\n",
    "import numpy as np\n",
    "\n",
    "# Data visualization\n",
    "import matplotlib.pyplot as plt\n",
    "%matplotlib inline"
   ]
  },
  {
   "cell_type": "code",
   "execution_count": 3,
   "metadata": {
    "collapsed": false
   },
   "outputs": [],
   "source": [
    "# Read in the data. Remember to pass in the full file path!\n",
    "data_df = pd.read_csv('data/commute_times.csv')"
   ]
  },
  {
   "cell_type": "code",
   "execution_count": 7,
   "metadata": {
    "collapsed": false
   },
   "outputs": [
    {
     "data": {
      "text/html": [
       "<div>\n",
       "<table border=\"1\" class=\"dataframe\">\n",
       "  <thead>\n",
       "    <tr style=\"text-align: right;\">\n",
       "      <th></th>\n",
       "      <th>source_latitude</th>\n",
       "      <th>source_longitude</th>\n",
       "      <th>destination_latitude</th>\n",
       "      <th>destination_longitude</th>\n",
       "      <th>time_of_day</th>\n",
       "      <th>commute_type</th>\n",
       "      <th>commute_time</th>\n",
       "    </tr>\n",
       "  </thead>\n",
       "  <tbody>\n",
       "    <tr>\n",
       "      <th>0</th>\n",
       "      <td>0.824392</td>\n",
       "      <td>0.475742</td>\n",
       "      <td>0.933873</td>\n",
       "      <td>-0.292262</td>\n",
       "      <td>8.856115</td>\n",
       "      <td>TRAIN</td>\n",
       "      <td>1.028704</td>\n",
       "    </tr>\n",
       "    <tr>\n",
       "      <th>1</th>\n",
       "      <td>0.795889</td>\n",
       "      <td>0.075121</td>\n",
       "      <td>0.240722</td>\n",
       "      <td>0.465027</td>\n",
       "      <td>9.058129</td>\n",
       "      <td>BIKE</td>\n",
       "      <td>4.634294</td>\n",
       "    </tr>\n",
       "    <tr>\n",
       "      <th>2</th>\n",
       "      <td>-0.902398</td>\n",
       "      <td>0.124019</td>\n",
       "      <td>0.666059</td>\n",
       "      <td>-0.260070</td>\n",
       "      <td>8.524607</td>\n",
       "      <td>CAR</td>\n",
       "      <td>6.491592</td>\n",
       "    </tr>\n",
       "    <tr>\n",
       "      <th>3</th>\n",
       "      <td>0.496755</td>\n",
       "      <td>-0.747187</td>\n",
       "      <td>0.161702</td>\n",
       "      <td>0.385728</td>\n",
       "      <td>9.676583</td>\n",
       "      <td>BUS</td>\n",
       "      <td>5.415297</td>\n",
       "    </tr>\n",
       "    <tr>\n",
       "      <th>4</th>\n",
       "      <td>-0.085848</td>\n",
       "      <td>-0.914451</td>\n",
       "      <td>-0.058177</td>\n",
       "      <td>0.278478</td>\n",
       "      <td>14.784042</td>\n",
       "      <td>BUS</td>\n",
       "      <td>1.499639</td>\n",
       "    </tr>\n",
       "  </tbody>\n",
       "</table>\n",
       "</div>"
      ],
      "text/plain": [
       "   source_latitude  source_longitude  destination_latitude  \\\n",
       "0         0.824392          0.475742              0.933873   \n",
       "1         0.795889          0.075121              0.240722   \n",
       "2        -0.902398          0.124019              0.666059   \n",
       "3         0.496755         -0.747187              0.161702   \n",
       "4        -0.085848         -0.914451             -0.058177   \n",
       "\n",
       "   destination_longitude  time_of_day commute_type  commute_time  \n",
       "0              -0.292262     8.856115        TRAIN      1.028704  \n",
       "1               0.465027     9.058129         BIKE      4.634294  \n",
       "2              -0.260070     8.524607          CAR      6.491592  \n",
       "3               0.385728     9.676583          BUS      5.415297  \n",
       "4               0.278478    14.784042          BUS      1.499639  "
      ]
     },
     "execution_count": 7,
     "metadata": {},
     "output_type": "execute_result"
    }
   ],
   "source": [
    "# Read in the first five rows of data.\n",
    "data_df.head()"
   ]
  },
  {
   "cell_type": "code",
   "execution_count": 8,
   "metadata": {
    "collapsed": false
   },
   "outputs": [
    {
     "data": {
      "text/html": [
       "<div>\n",
       "<table border=\"1\" class=\"dataframe\">\n",
       "  <thead>\n",
       "    <tr style=\"text-align: right;\">\n",
       "      <th></th>\n",
       "      <th>source_latitude</th>\n",
       "      <th>source_longitude</th>\n",
       "      <th>destination_latitude</th>\n",
       "      <th>destination_longitude</th>\n",
       "      <th>time_of_day</th>\n",
       "      <th>commute_type</th>\n",
       "      <th>commute_time</th>\n",
       "    </tr>\n",
       "  </thead>\n",
       "  <tbody>\n",
       "    <tr>\n",
       "      <th>3170</th>\n",
       "      <td>0.081357</td>\n",
       "      <td>-0.824304</td>\n",
       "      <td>0.290507</td>\n",
       "      <td>0.824113</td>\n",
       "      <td>8.733078</td>\n",
       "      <td>CAR</td>\n",
       "      <td>8.071357</td>\n",
       "    </tr>\n",
       "    <tr>\n",
       "      <th>2292</th>\n",
       "      <td>0.908957</td>\n",
       "      <td>0.366996</td>\n",
       "      <td>0.397665</td>\n",
       "      <td>0.500049</td>\n",
       "      <td>17.307699</td>\n",
       "      <td>BIKE</td>\n",
       "      <td>3.905998</td>\n",
       "    </tr>\n",
       "    <tr>\n",
       "      <th>2953</th>\n",
       "      <td>0.364320</td>\n",
       "      <td>-0.283388</td>\n",
       "      <td>-0.106586</td>\n",
       "      <td>-0.474085</td>\n",
       "      <td>8.694374</td>\n",
       "      <td>BUS</td>\n",
       "      <td>1.217630</td>\n",
       "    </tr>\n",
       "  </tbody>\n",
       "</table>\n",
       "</div>"
      ],
      "text/plain": [
       "      source_latitude  source_longitude  destination_latitude  \\\n",
       "3170         0.081357         -0.824304              0.290507   \n",
       "2292         0.908957          0.366996              0.397665   \n",
       "2953         0.364320         -0.283388             -0.106586   \n",
       "\n",
       "      destination_longitude  time_of_day commute_type  commute_time  \n",
       "3170               0.824113     8.733078          CAR      8.071357  \n",
       "2292               0.500049    17.307699         BIKE      3.905998  \n",
       "2953              -0.474085     8.694374          BUS      1.217630  "
      ]
     },
     "execution_count": 8,
     "metadata": {},
     "output_type": "execute_result"
    }
   ],
   "source": [
    "# Other options include using .tail() and .sample(). You can specify how many rows of data to see. The default is 5. \n",
    "data_df.sample(3)"
   ]
  },
  {
   "cell_type": "code",
   "execution_count": 10,
   "metadata": {
    "collapsed": false
   },
   "outputs": [
    {
     "data": {
      "text/html": [
       "<div>\n",
       "<table border=\"1\" class=\"dataframe\">\n",
       "  <thead>\n",
       "    <tr style=\"text-align: right;\">\n",
       "      <th></th>\n",
       "      <th>source_latitude</th>\n",
       "      <th>source_longitude</th>\n",
       "      <th>destination_latitude</th>\n",
       "      <th>destination_longitude</th>\n",
       "      <th>time_of_day</th>\n",
       "      <th>commute_time</th>\n",
       "    </tr>\n",
       "  </thead>\n",
       "  <tbody>\n",
       "    <tr>\n",
       "      <th>count</th>\n",
       "      <td>5000.000000</td>\n",
       "      <td>5000.000000</td>\n",
       "      <td>5000.000000</td>\n",
       "      <td>5000.000000</td>\n",
       "      <td>5000.000000</td>\n",
       "      <td>5000.000000</td>\n",
       "    </tr>\n",
       "    <tr>\n",
       "      <th>mean</th>\n",
       "      <td>0.016989</td>\n",
       "      <td>-0.001112</td>\n",
       "      <td>0.008871</td>\n",
       "      <td>-0.003660</td>\n",
       "      <td>12.907481</td>\n",
       "      <td>5.916393</td>\n",
       "    </tr>\n",
       "    <tr>\n",
       "      <th>std</th>\n",
       "      <td>0.498398</td>\n",
       "      <td>0.496516</td>\n",
       "      <td>0.505529</td>\n",
       "      <td>0.493361</td>\n",
       "      <td>5.062629</td>\n",
       "      <td>7.377911</td>\n",
       "    </tr>\n",
       "    <tr>\n",
       "      <th>min</th>\n",
       "      <td>-0.993965</td>\n",
       "      <td>-0.994980</td>\n",
       "      <td>-0.993558</td>\n",
       "      <td>-0.993228</td>\n",
       "      <td>0.011903</td>\n",
       "      <td>0.026476</td>\n",
       "    </tr>\n",
       "    <tr>\n",
       "      <th>25%</th>\n",
       "      <td>-0.380178</td>\n",
       "      <td>-0.403628</td>\n",
       "      <td>-0.412769</td>\n",
       "      <td>-0.404136</td>\n",
       "      <td>8.255253</td>\n",
       "      <td>1.655486</td>\n",
       "    </tr>\n",
       "    <tr>\n",
       "      <th>50%</th>\n",
       "      <td>0.022520</td>\n",
       "      <td>0.014167</td>\n",
       "      <td>0.023954</td>\n",
       "      <td>-0.003991</td>\n",
       "      <td>12.615803</td>\n",
       "      <td>3.410380</td>\n",
       "    </tr>\n",
       "    <tr>\n",
       "      <th>75%</th>\n",
       "      <td>0.421327</td>\n",
       "      <td>0.393509</td>\n",
       "      <td>0.415439</td>\n",
       "      <td>0.392553</td>\n",
       "      <td>17.795765</td>\n",
       "      <td>7.256224</td>\n",
       "    </tr>\n",
       "    <tr>\n",
       "      <th>max</th>\n",
       "      <td>0.998154</td>\n",
       "      <td>0.995806</td>\n",
       "      <td>0.992540</td>\n",
       "      <td>0.992620</td>\n",
       "      <td>23.943038</td>\n",
       "      <td>98.085467</td>\n",
       "    </tr>\n",
       "  </tbody>\n",
       "</table>\n",
       "</div>"
      ],
      "text/plain": [
       "       source_latitude  source_longitude  destination_latitude  \\\n",
       "count      5000.000000       5000.000000           5000.000000   \n",
       "mean          0.016989         -0.001112              0.008871   \n",
       "std           0.498398          0.496516              0.505529   \n",
       "min          -0.993965         -0.994980             -0.993558   \n",
       "25%          -0.380178         -0.403628             -0.412769   \n",
       "50%           0.022520          0.014167              0.023954   \n",
       "75%           0.421327          0.393509              0.415439   \n",
       "max           0.998154          0.995806              0.992540   \n",
       "\n",
       "       destination_longitude  time_of_day  commute_time  \n",
       "count            5000.000000  5000.000000   5000.000000  \n",
       "mean               -0.003660    12.907481      5.916393  \n",
       "std                 0.493361     5.062629      7.377911  \n",
       "min                -0.993228     0.011903      0.026476  \n",
       "25%                -0.404136     8.255253      1.655486  \n",
       "50%                -0.003991    12.615803      3.410380  \n",
       "75%                 0.392553    17.795765      7.256224  \n",
       "max                 0.992620    23.943038     98.085467  "
      ]
     },
     "execution_count": 10,
     "metadata": {},
     "output_type": "execute_result"
    }
   ],
   "source": [
    "# Other methods to use to get some information about your dataset. Using .describe() provides some summary statistics\n",
    "# of what kind of data?\n",
    "data_df.describe()"
   ]
  },
  {
   "cell_type": "code",
   "execution_count": 11,
   "metadata": {
    "collapsed": false
   },
   "outputs": [
    {
     "data": {
      "text/plain": [
       "(5000, 7)"
      ]
     },
     "execution_count": 11,
     "metadata": {},
     "output_type": "execute_result"
    }
   ],
   "source": [
    "# There is a quick way to learn what size dataset you are working with. .shape will return (rows, columns).\n",
    "data_df.shape"
   ]
  },
  {
   "cell_type": "code",
   "execution_count": 19,
   "metadata": {
    "collapsed": false
   },
   "outputs": [
    {
     "name": "stdout",
     "output_type": "stream",
     "text": [
      "source_latitude - float64\n",
      "source_longitude - float64\n",
      "destination_latitude - float64\n",
      "destination_longitude - float64\n",
      "time_of_day - float64\n",
      "commute_type - object\n",
      "commute_time - float64\n"
     ]
    }
   ],
   "source": [
    "# It's important to know what data types are in your dataset! Never make assumptions about the data you are working\n",
    "# with.\n",
    "for col in data_df.columns:\n",
    "    print(f'{col} - {data_df[col].dtype}')"
   ]
  },
  {
   "cell_type": "code",
   "execution_count": 20,
   "metadata": {
    "collapsed": false
   },
   "outputs": [
    {
     "data": {
      "text/plain": [
       "False"
      ]
     },
     "execution_count": 20,
     "metadata": {},
     "output_type": "execute_result"
    }
   ],
   "source": [
    "# Is there any missing data in this dataset?\n",
    "data_df.isnull().values.any()"
   ]
  },
  {
   "cell_type": "code",
   "execution_count": 24,
   "metadata": {
    "collapsed": false
   },
   "outputs": [
    {
     "data": {
      "text/plain": [
       "0"
      ]
     },
     "execution_count": 24,
     "metadata": {},
     "output_type": "execute_result"
    }
   ],
   "source": [
    "# If there are NaNs, how many are there?\n",
    "data_df.isnull().sum().sum()"
   ]
  },
  {
   "cell_type": "code",
   "execution_count": 25,
   "metadata": {
    "collapsed": true
   },
   "outputs": [],
   "source": [
    "# Let's start learning about the data through visualizations"
   ]
  },
  {
   "cell_type": "code",
   "execution_count": 43,
   "metadata": {
    "collapsed": false
   },
   "outputs": [
    {
     "data": {
      "image/png": "[encoded data removed]",
      "text/plain": [
       "<matplotlib.figure.Figure at 0x111e69f28>"
      ]
     },
     "metadata": {},
     "output_type": "display_data"
    }
   ],
   "source": [
    "# This will tell you the frequency of commute times.\n",
    "data_df['commute_time'].hist(bins=50);"
   ]
  },
  {
   "cell_type": "code",
   "execution_count": 42,
   "metadata": {
    "collapsed": false
   },
   "outputs": [
    {
     "data": {
      "image/png": "[encoded data removed]",
      "text/plain": [
       "<matplotlib.figure.Figure at 0x1124ab978>"
      ]
     },
     "metadata": {},
     "output_type": "display_data"
    }
   ],
   "source": [
    "# How is commute time distributed by time of day?\n",
    "plt.scatter(data_df['time_of_day'], data_df['commute_time'], alpha=0.5)\n",
    "plt.xlabel('Time of Day')\n",
    "plt.ylabel('Commute Time');"
   ]
  },
  {
   "cell_type": "code",
   "execution_count": 40,
   "metadata": {
    "collapsed": false
   },
   "outputs": [
    {
     "data": {
      "text/plain": [
       "commute_type\n",
       "BIKE      750\n",
       "BUS      1645\n",
       "CAR      1739\n",
       "TRAIN     639\n",
       "WALK      227\n",
       "dtype: int64"
      ]
     },
     "execution_count": 40,
     "metadata": {},
     "output_type": "execute_result"
    }
   ],
   "source": [
    "# This is a nice summary table, but let's graph this out somehow.\n",
    "data_df.groupby('commute_type').size()"
   ]
  },
  {
   "cell_type": "code",
   "execution_count": 44,
   "metadata": {
    "collapsed": true
   },
   "outputs": [],
   "source": [
    "# Need a bar graph of commute type"
   ]
  },
  {
   "cell_type": "code",
   "execution_count": null,
   "metadata": {
    "collapsed": true
   },
   "outputs": [],
   "source": [
    "# Need to fix x axis of graphs below"
   ]
  },
  {
   "cell_type": "code",
   "execution_count": 41,
   "metadata": {
    "collapsed": false
   },
   "outputs": [
    {
     "data": {
      "image/png": "[encoded data removed]",
      "text/plain": [
       "<matplotlib.figure.Figure at 0x111f6f940>"
      ]
     },
     "metadata": {},
     "output_type": "display_data"
    }
   ],
   "source": [
    "# Simplify for following\n",
    "commute_type = data_df['commute_type']\n",
    "commute_time = data_df['commute_time']\n",
    "\n",
    "# Examine the distribution of commute times by commute types.\n",
    "fig, axs = plt.subplots(5, 1, figsize=(12, 10), sharex=True)\n",
    "colors = ['blue', 'red', 'green', 'orange', 'grey']\n",
    "\n",
    "for ax, ctype, color in zip(axs, np.unique(commute_type), colors):\n",
    "    ctime = commute_time[commute_type == ctype]\n",
    "    ax.hist(ctime, bins=50, color=color)\n",
    "    ax.set_title(f'Commute Times for {ctype}')\n",
    "fig.tight_layout()"
   ]
  },
  {
   "cell_type": "code",
   "execution_count": 46,
   "metadata": {
    "collapsed": true
   },
   "outputs": [],
   "source": [
    "# Correlation plot?\n",
    "# plt.xcorr()"
   ]
  },
  {
   "cell_type": "code",
   "execution_count": 45,
   "metadata": {
    "collapsed": true
   },
   "outputs": [],
   "source": [
    "# How to add to current data frame in the correct orientation? Know your axes.\n",
    "data_df = pd.concat([data_df, pd.get_dummies(data_df['commute_type'])], axis=1)"
   ]
  },
  {
   "cell_type": "code",
   "execution_count": null,
   "metadata": {
    "collapsed": true
   },
   "outputs": [],
   "source": [
    "# 8/13/18\n",
    "# Need new dataset for datetime objects (time_of_day_ts)\n",
    "# If not randomly replacing with NaNs, will bring up topic and method to check for nans and ask about/discuss ways \n",
    "# to impute or drop data.\n",
    "# For feature engineering, get_dummies was introduced above. What about log transforming commute time?\n",
    "# "
   ]
  },
  {
   "cell_type": "markdown",
   "metadata": {},
   "source": [
    "#### What do you think those peaks represent? Could we use this information somehow?"
   ]
  },
  {
   "cell_type": "code",
   "execution_count": null,
   "metadata": {
    "collapsed": false
   },
   "outputs": [],
   "source": [
    "peak_commute = max(data_df['commute_time'])\n",
    "peak_commute\n",
    "# Not super useful..."
   ]
  },
  {
   "cell_type": "code",
   "execution_count": null,
   "metadata": {
    "collapsed": true
   },
   "outputs": [],
   "source": [
    "# This might be a bonus feature: distance (diff of time of day, timedelta?) of point to peak \n",
    "# Find the first peak\n",
    "# For each point, determine which peak is closest to that point.\n",
    "# Calculate the distance\n",
    "first_peak = data_df['time_of_day']==\n",
    "\n",
    "# How to do this?\n",
    "# 1. Smooth the data and find deriv (pro: Have to deal with one peak, not 2!)\n",
    "# 2. tmp dfs to split into 2 and find distance (what kind of distance?) to peak?\n",
    "# "
   ]
  },
  {
   "cell_type": "code",
   "execution_count": null,
   "metadata": {
    "collapsed": false
   },
   "outputs": [],
   "source": [
    "# Too complicated, stick with matplotlib. Look at Matt's\n",
    "sns.lmplot(x='time_of_day', y='commute_time', hue = 'commute_type', data=data_df)"
   ]
  },
  {
   "cell_type": "code",
   "execution_count": null,
   "metadata": {
    "collapsed": true
   },
   "outputs": [],
   "source": [
    "# To add\n",
    "# EDA steps (shape, describe, dtypes, head/tail/sample)\n",
    "# Worthwhile concepts to introduce? colinearity and correlation plot? maybe too much in the weeds (bonus concept)\n",
    "# Vizualizations: pandas vs introducing matplotlib & seaborn\n",
    "# new features (L1, L2 distance; get dummies (this will also introduce concept of adding to df))\n",
    "# What about transforming any of the current variables? eg log transform of commute time\n",
    "# plotting (bar plot commute type, scatter/histo time of day -> facet = commute type)\n",
    "# Bonus or plant seed for further exploration during hack time: map start and destination locations (choropleth?)?"
   ]
  },
  {
   "cell_type": "code",
   "execution_count": null,
   "metadata": {
    "collapsed": true
   },
   "outputs": [],
   "source": []
  }
 ],
 "metadata": {
  "kernelspec": {
   "display_name": "Python 3",
   "language": "python",
   "name": "python3"
  },
  "language_info": {
   "codemirror_mode": {
    "name": "ipython",
    "version": 3
   },
   "file_extension": ".py",
   "mimetype": "text/x-python",
   "name": "python",
   "nbconvert_exporter": "python",
   "pygments_lexer": "ipython3",
   "version": "3.6.0"
  }
 },
 "nbformat": 4,
 "nbformat_minor": 2
}
